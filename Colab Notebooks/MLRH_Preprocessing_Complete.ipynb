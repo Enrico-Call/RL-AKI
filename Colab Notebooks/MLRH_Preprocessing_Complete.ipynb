{
  "nbformat": 4,
  "nbformat_minor": 0,
  "metadata": {
    "colab": {
      "name": "MLRH Preprocessing Complete.ipynb",
      "provenance": [],
      "collapsed_sections": []
    },
    "kernelspec": {
      "display_name": "Python 3",
      "language": "python",
      "name": "python3"
    },
    "language_info": {
      "codemirror_mode": {
        "name": "ipython",
        "version": 3
      },
      "file_extension": ".py",
      "mimetype": "text/x-python",
      "name": "python",
      "nbconvert_exporter": "python",
      "pygments_lexer": "ipython3",
      "version": "3.8.8"
    }
  },
  "cells": [
    {
      "cell_type": "code",
      "metadata": {
        "cellView": "form",
        "id": "hQnpY5Kpm5rT"
      },
      "source": [
        "#sets the project id\n",
        "PROJECT_ID = \"mlrh-330919\" #@param {type:\"string\"}"
      ],
      "execution_count": null,
      "outputs": []
    },
    {
      "cell_type": "code",
      "metadata": {
        "id": "v0L2i-Nnp7_R"
      },
      "source": [
        "import os\n",
        "from google.colab import auth\n",
        "from IPython.display import display\n",
        " \n",
        "#sets dateset\n",
        "DATASET_PROJECT_ID = 'amsterdamumcdb'\n",
        "DATASET_ID = 'version1_0_2'\n",
        "LOCATION = 'eu'\n",
        " \n",
        "#all libraries check this environment variable, so set it:\n",
        "os.environ[\"GOOGLE_CLOUD_PROJECT\"] = PROJECT_ID\n",
        " \n",
        "auth.authenticate_user()\n",
        "print('Authenticated')"
      ],
      "execution_count": null,
      "outputs": []
    },
    {
      "cell_type": "code",
      "metadata": {
        "id": "izTeiKOs3F7p"
      },
      "source": [
        "import pandas as pd\n",
        "import matplotlib.pyplot as plt\n",
        "from scipy import stats\n",
        "import numpy as np"
      ],
      "execution_count": null,
      "outputs": []
    },
    {
      "cell_type": "code",
      "metadata": {
        "id": "kmQ4q26l4bqS"
      },
      "source": [
        "from google.colab import drive\n",
        "drive.mount('/content/drive')"
      ],
      "execution_count": null,
      "outputs": []
    },
    {
      "cell_type": "code",
      "metadata": {
        "id": "45PwzqgK4vEm"
      },
      "source": [
        "os.chdir('/content/drive/MyDrive/MLRFH')"
      ],
      "execution_count": null,
      "outputs": []
    },
    {
      "cell_type": "code",
      "metadata": {
        "id": "Nyva7EbsU_yt"
      },
      "source": [
        "#Some preprocessing functions \n",
        "\n",
        "def to_cols(data):\n",
        "\n",
        "  grouped = data.pivot_table(index=['admissionid', 'time'], \n",
        "          columns=['item'], values='value')\n",
        "\n",
        "  return grouped\n",
        "  \n",
        "\n",
        "def to_cols_action(data):\n",
        "\n",
        "  grouped = data.pivot_table(index=['admissionid', 'time'], \n",
        "            columns=['item'], values='administered')\n",
        "\n",
        "  return grouped\n",
        "\n",
        "def remove_outliers(grouped):\n",
        "  #delete outliers\n",
        "  outliers = grouped.reset_index() #return to single index\n",
        "\n",
        "  #select outlier cols\n",
        "  all_cols = ['Kalium (bloed)', 'ABP gemiddeld', 'Kreatinine (bloed)', 'Natrium (bloed)', 'UrineCAD', 'UrineSupraPubis', 'UrineSpontaan', 'UrineUP', 'Kreatinine', 'Nefrodrain re Uit', 'Nefrodrain li Uit', 'UrineIncontinentie']\n",
        "  \n",
        "  grouped['Kalium (bloed)'][grouped['Kalium (bloed)'] > 8.] = np.nan\n",
        "  grouped['ABP gemiddeld'][grouped['ABP gemiddeld'] > 200.] = np.nan\n",
        "  grouped['Kreatinine (bloed)'][grouped['Kreatinine (bloed)'] > 220.] = np.nan\n",
        "  grouped['Natrium (bloed)'][grouped['Natrium (bloed)'] > 180.] = np.nan\n",
        "  grouped['UrineCAD'][grouped['UrineCAD'] > 750.] = np.nan\n",
        "\n",
        "\n",
        "  #return grouped[grouped[all_cols] >= 0]\n",
        "  grouped[all_cols] = grouped[all_cols].applymap(lambda x: np.nan if x < 0 else x)\n",
        "  return grouped\n",
        "\n",
        "def remove_outliers_action(grouped):\n",
        "  #delete outliers\n",
        "  outliers = grouped.reset_index() #return to single index\n",
        "\n",
        "  cols = ['Noradrenaline (Norepinefrine)', 'NaCl 0,45%/Glucose 2,5%']\n",
        "\n",
        "  #select outlier cols\n",
        "  grouped['Noradrenaline (Norepinefrine)'][grouped['Noradrenaline (Norepinefrine)'] > 10.] = np.nan\n",
        "  grouped['NaCl 0,45%/Glucose 2,5%'][grouped['NaCl 0,45%/Glucose 2,5%'] > 500.] = np.nan\n",
        "\n",
        "  grouped[cols] = grouped[cols].applymap(lambda x: np.nan if x < 0 else x)\n",
        "\n",
        "  return grouped\n",
        "\n",
        "def aggregate(outliers_removed):\n",
        "  #per patient, average the values in 4h timeslots\n",
        "  outliers_removed = outliers_removed.sort_values('time')\n",
        "  data_agg = outliers_removed.groupby([pd.Grouper(level='admissionid'), \n",
        "            pd.Grouper(level='time', freq='4H')]\n",
        "          ).mean()\n",
        "  \n",
        "  return data_agg\n",
        "\n",
        "def interpolate(data_agg):\n",
        "  #interpolate null values\n",
        "  return data_agg.interpolate(limit_direction='both')\n",
        "\n",
        "\n",
        "def process_statespace(data):\n",
        "  data['time'] = pd.to_datetime(data['time'], unit='ms')\n",
        "  print(\"data\", data.columns)\n",
        "  grouped = to_cols(data)\n",
        "  grouped = remove_outliers(grouped)\n",
        "  data_agg = aggregate(grouped)\n",
        "  data_filled = interpolate(data_agg)\n",
        "\n",
        "  return data_filled.reset_index()\n",
        "  \n",
        "def process_actionspace(data):\n",
        "  data['time'] = pd.to_datetime(data['time'], unit='ms')\n",
        "  print(\"data\", data.columns)\n",
        "  grouped = to_cols_action(data)\n",
        "  grouped = remove_outliers_action(grouped)\n",
        "  data_agg = aggregate(grouped)\n",
        "  data_filled = interpolate(data_agg)\n",
        "\n",
        "  return data_filled.reset_index()"
      ],
      "execution_count": null,
      "outputs": []
    },
    {
      "cell_type": "code",
      "source": [
        "#plot distribution of cols\n",
        "\n",
        "def draw_histograms(df, variables, n_rows, n_cols):\n",
        "    colors = [\"pink\", \"orange\", \"yellow\", \"green\", \"blue\", \"purple\", \"black\", \"darkgreen\", \"darkblue\", \"grey\", \"lightblue\", \"red\"]\n",
        "    fig=plt.figure()\n",
        "    for i, var_name in enumerate(variables):\n",
        "        ax=fig.add_subplot(n_rows,n_cols,i+1)\n",
        "        df[var_name].hist(bins=100,ax=ax, color=colors[i])\n",
        "        ax.set_title(var_name)\n",
        "    fig.tight_layout()  # Improves appearance a bit.\n",
        "    plt.show()\n",
        "\n",
        "#normalization, nice for plotting\n",
        "\n",
        "def minmax(df):\n",
        "    return (df - df.min()) / ( df.max() - df.min())"
      ],
      "metadata": {
        "id": "gnhJELl1t5cG"
      },
      "execution_count": null,
      "outputs": []
    },
    {
      "cell_type": "code",
      "metadata": {
        "id": "p9st0wgM3mmT"
      },
      "source": [
        "#data = pd.read_csv('new_new_dataset.csv')\n",
        "data = pd.read_csv('state_v2.csv')"
      ],
      "execution_count": null,
      "outputs": []
    },
    {
      "cell_type": "code",
      "source": [
        "data.head()"
      ],
      "metadata": {
        "id": "_RBSmDVxVjqP"
      },
      "execution_count": null,
      "outputs": []
    },
    {
      "cell_type": "code",
      "source": [
        "#Plot before distributions\n",
        "cols1 = ['Kalium (bloed)', 'ABP gemiddeld', 'Kreatinine (bloed)', 'Natrium (bloed)', 'UrineCAD', 'UrineSupraPubis']\n",
        "cols2 =  ['UrineSpontaan', 'UrineUP', 'Kreatinine', 'Nefrodrain re Uit', 'Nefrodrain li Uit', 'UrineIncontinentie']\n",
        "colors = [\"pink\", \"orange\", \"yellow\", \"green\", \"blue\", \"purple\", \"black\", \"darkgreen\", \"darkblue\", \"grey\", \"lightblue\", \"red\"]\n",
        "fig=plt.figure()\n",
        "for i, var_name in enumerate(cols1):\n",
        "    ax=fig.add_subplot(3,3,i+1)\n",
        "    data['value'][data['item'] == var_name].hist(bins=100,ax=ax, color=colors[i])\n",
        "    ax.set_title(var_name)\n",
        "fig.tight_layout()  # Improves appearance a bit.\n",
        "plt.show()"
      ],
      "metadata": {
        "id": "fI0Fcj41FopT"
      },
      "execution_count": null,
      "outputs": []
    },
    {
      "cell_type": "code",
      "source": [
        "fig=plt.figure()\n",
        "for i, var_name in enumerate(cols2):\n",
        "    ax=fig.add_subplot(3,3,i+1)\n",
        "    data['value'][data['item'] == var_name].hist(bins=100,ax=ax, color=colors[i])\n",
        "    ax.set_title(var_name)\n",
        "fig.tight_layout()  # Improves appearance a bit.\n",
        "plt.show()"
      ],
      "metadata": {
        "id": "o7OV9OXlGQmU"
      },
      "execution_count": null,
      "outputs": []
    },
    {
      "cell_type": "code",
      "source": [
        "data['item'].value_counts()"
      ],
      "metadata": {
        "id": "aBK09Lnpk0mO"
      },
      "execution_count": null,
      "outputs": []
    },
    {
      "cell_type": "code",
      "source": [
        "#patient id=0 before preprocessing\n",
        "pd.set_option('display.max_rows', 100)\n",
        "data['time'] = pd.to_datetime(data['measuredat'], unit='ms')\n",
        "data[data['admissionid'] == 0].sort_values(by = \"measuredat\")"
      ],
      "metadata": {
        "id": "nUx5hZymosGm"
      },
      "execution_count": null,
      "outputs": []
    },
    {
      "cell_type": "code",
      "source": [
        "statespace = process_statespace(data)"
      ],
      "metadata": {
        "id": "lSsW-qCOiKXz"
      },
      "execution_count": null,
      "outputs": []
    },
    {
      "cell_type": "code",
      "source": [
        "#check for one patient whether the aggregations are correct\n",
        "statespace[statespace['admissionid'] == 0]"
      ],
      "metadata": {
        "id": "1rcfi7P6pheH"
      },
      "execution_count": null,
      "outputs": []
    },
    {
      "cell_type": "code",
      "source": [
        "from numpy.lib import histograms\n",
        "variables = ['Kalium (bloed)', 'ABP gemiddeld', 'Kreatinine (bloed)', 'Natrium (bloed)', 'UrineCAD', 'UrineSupraPubis']\n",
        "\n",
        "draw_histograms(statespace, variables, 3, 3)"
      ],
      "metadata": {
        "id": "SHkmTz8_zQqi"
      },
      "execution_count": null,
      "outputs": []
    },
    {
      "cell_type": "code",
      "source": [
        "variables2 = ['UrineSpontaan', 'UrineUP', 'Kreatinine', 'Nefrodrain re Uit', 'Nefrodrain li Uit', 'UrineIncontinentie']\n",
        "draw_histograms(statespace, variables2, 3, 3)"
      ],
      "metadata": {
        "id": "P0nEwXnP6y8x"
      },
      "execution_count": null,
      "outputs": []
    },
    {
      "cell_type": "code",
      "source": [
        "statespace"
      ],
      "metadata": {
        "id": "qXtNtYo6vcPl"
      },
      "execution_count": null,
      "outputs": []
    },
    {
      "cell_type": "markdown",
      "metadata": {
        "id": "5XEClhZriUS5"
      },
      "source": [
        "**Action** **Space**"
      ]
    },
    {
      "cell_type": "code",
      "metadata": {
        "id": "Sc8WgbHpiToR"
      },
      "source": [
        "action = pd.read_csv('action_space.csv')\n",
        "action['time'] = pd.to_datetime(action['stop'] - action['start'], unit='ms')\n",
        "action = action.drop(columns = ['start', 'stop'])"
      ],
      "execution_count": null,
      "outputs": []
    },
    {
      "cell_type": "code",
      "source": [
        "action['administered'][action['item'] == 'Noradrenaline (Norepinefrine)'].mean()"
      ],
      "metadata": {
        "id": "GiesMTI-Hf4W"
      },
      "execution_count": null,
      "outputs": []
    },
    {
      "cell_type": "code",
      "source": [
        "action['administered'][action['item'] == 'NaCl 0,45%/Glucose 2,5%'].max()"
      ],
      "metadata": {
        "id": "UyjIyau8H_vf"
      },
      "execution_count": null,
      "outputs": []
    },
    {
      "cell_type": "code",
      "source": [
        "#check for 1 patient\n",
        "pd.set_option('display.max_rows', 135)\n",
        "action[action['admissionid'] == 4251]"
      ],
      "metadata": {
        "id": "-zjNkLIU3G9D"
      },
      "execution_count": null,
      "outputs": []
    },
    {
      "cell_type": "code",
      "source": [
        "actionspace = process_actionspace(action)"
      ],
      "metadata": {
        "id": "BdyBGag9mjcv"
      },
      "execution_count": null,
      "outputs": []
    },
    {
      "cell_type": "code",
      "source": [
        "actionspace['Noradrenaline (Norepinefrine)'].max()"
      ],
      "metadata": {
        "id": "AbrcT8-DJPoh"
      },
      "execution_count": null,
      "outputs": []
    },
    {
      "cell_type": "code",
      "source": [
        "actionspace[actionspace['admissionid'] == 4251]"
      ],
      "metadata": {
        "id": "UrQNYz_h3bZm"
      },
      "execution_count": null,
      "outputs": []
    },
    {
      "cell_type": "markdown",
      "metadata": {
        "id": "jOlJ3RKDw6NC"
      },
      "source": [
        "**Combine two dataframes** "
      ]
    },
    {
      "cell_type": "code",
      "metadata": {
        "id": "GJkZnnWKBgy-"
      },
      "source": [
        "#take first 48 hours per patient\n",
        "statespace = statespace.sort_values(by=['admissionid', 'time'])\n",
        "statespace48h = statespace.groupby('admissionid').head(12)"
      ],
      "execution_count": null,
      "outputs": []
    },
    {
      "cell_type": "code",
      "source": [
        "action.isnull().sum()"
      ],
      "metadata": {
        "id": "tHEld4PuDjo8"
      },
      "execution_count": null,
      "outputs": []
    },
    {
      "cell_type": "code",
      "metadata": {
        "id": "zvYD2Xqj5His"
      },
      "source": [
        "#we need to know the gender, otherwise we cannot compute AKI --> nans are dropped\n",
        "genders = action[['admissionid', 'gender']].dropna()"
      ],
      "execution_count": null,
      "outputs": []
    },
    {
      "cell_type": "code",
      "metadata": {
        "id": "JYi9SF3AB-sc"
      },
      "source": [
        "#add gender to dataframe\n",
        "def check_gender(admissionid):\n",
        "  try:\n",
        "    gender = genders['gender'][genders['admissionid'] == admissionid].head(1).item()\n",
        "  except ValueError:\n",
        "    gender = \"Unknown\"\n",
        "  return gender"
      ],
      "execution_count": null,
      "outputs": []
    },
    {
      "cell_type": "code",
      "source": [
        "#add gender to dataframe\n",
        "def check_age(admissionid):\n",
        "  age = action['agegroup'][action['admissionid'] == admissionid].head(1).item()\n",
        "  return age"
      ],
      "metadata": {
        "id": "Mj39PjglEQvh"
      },
      "execution_count": null,
      "outputs": []
    },
    {
      "cell_type": "code",
      "metadata": {
        "id": "R2tN3h7hrznU"
      },
      "source": [
        "statespace48h['gender'] = [check_gender(x) for x in statespace48h['admissionid']]"
      ],
      "execution_count": null,
      "outputs": []
    },
    {
      "cell_type": "code",
      "source": [
        "#remove unknowns, as we need to know the gender to compute the AKI\n",
        "statespace48h = statespace48h[statespace48h.gender != 'Unknown']"
      ],
      "metadata": {
        "id": "2r_qYkyqrsin"
      },
      "execution_count": null,
      "outputs": []
    },
    {
      "cell_type": "code",
      "source": [
        "statespace48h['agegroup'] = [check_age(x) for x in statespace48h['admissionid']]"
      ],
      "metadata": {
        "id": "tPXuj50mEmm0"
      },
      "execution_count": null,
      "outputs": []
    },
    {
      "cell_type": "code",
      "source": [
        "statespace48h['agegroup'].value_counts()"
      ],
      "metadata": {
        "id": "JFLXR2vtK_0L"
      },
      "execution_count": null,
      "outputs": []
    },
    {
      "cell_type": "code",
      "source": [
        "#Agegroup is categorical --> encode them into a numerical variable\n",
        "# agegroups = pd.get_dummies(statespace48h['agegroup'])\n",
        "# statespace48h = pd.concat([statespace48h, agegroups], axis=1)\n",
        "\n",
        "ages = {\"agegroup\": {\"18-39\": 1, \"40-49\": 2, \"50-59\": 3, \"60-69\":4, \"70-79\":5, \"80+\":6}}\n",
        "statespace48h = statespace48h.replace(ages)\n",
        "statespace48h"
      ],
      "metadata": {
        "id": "OjJfnrFHGVvf"
      },
      "execution_count": null,
      "outputs": []
    },
    {
      "cell_type": "code",
      "metadata": {
        "id": "pVTRWkqOIb5g"
      },
      "source": [
        "#df with 1 row per patient for demographic stats\n",
        "demo = statespace48h.drop_duplicates(subset=['admissionid'], keep='first')"
      ],
      "execution_count": null,
      "outputs": []
    },
    {
      "cell_type": "code",
      "source": [
        "#add AKI feature\n",
        "\n",
        "def AKI(kreatinine, gender):\n",
        "  if gender == 'Vrouw':\n",
        "    if kreatinine > 106 and kreatinine <= 134:\n",
        "      return 1\n",
        "    if kreatinine > 134 and kreatinine <= 205:\n",
        "      return 2\n",
        "    if kreatinine > 205:\n",
        "      return 3\n",
        "    else:\n",
        "      return 0\n",
        "  if gender == 'Man':\n",
        "    if kreatinine > 119 and kreatinine <= 151:\n",
        "      return 1\n",
        "    if kreatinine > 151 and kreatinine <= 231:\n",
        "      return 2\n",
        "    if kreatinine > 231:\n",
        "      return 3\n",
        "    else:\n",
        "      return 0"
      ],
      "metadata": {
        "id": "SKQ3Rkb1th_q"
      },
      "execution_count": null,
      "outputs": []
    },
    {
      "cell_type": "code",
      "source": [
        "#add AKI to every row in statespace\n",
        "statespace48h['AKI'] = statespace48h.apply(lambda row: AKI(row['Kreatinine (bloed)'], row['gender']), axis=1)"
      ],
      "metadata": {
        "id": "k3tDjoi8toAP"
      },
      "execution_count": null,
      "outputs": []
    },
    {
      "cell_type": "code",
      "source": [
        "statespace48h['AKI'].value_counts()"
      ],
      "metadata": {
        "id": "sScanRFNuFvx"
      },
      "execution_count": null,
      "outputs": []
    },
    {
      "cell_type": "code",
      "source": [
        "#merge datasets --> left merge on actionspace, as states without actions are not useful for our model\n",
        "space = actionspace.merge(statespace48h, on=[\"admissionid\", \"time\"], how=\"left\")"
      ],
      "metadata": {
        "id": "xpThDJCDuOPT"
      },
      "execution_count": null,
      "outputs": []
    },
    {
      "cell_type": "code",
      "source": [
        "#all the null values are patients that are not in the state space and only in the action space --> we cannot use them so they are dropped\n",
        "space.isnull().sum()\n",
        "space = space.dropna()"
      ],
      "metadata": {
        "id": "yafVTlFdungH"
      },
      "execution_count": null,
      "outputs": []
    },
    {
      "cell_type": "code",
      "source": [
        "#one hot encode gender\n",
        "space = pd.get_dummies(space, columns = ['gender'])\n"
      ],
      "metadata": {
        "id": "OuANHRacJ5Tl"
      },
      "execution_count": null,
      "outputs": []
    },
    {
      "cell_type": "code",
      "source": [
        "#save final space in the drive\n",
        "#space.to_csv(\"space_correct_demo7.csv\")"
      ],
      "metadata": {
        "id": "_eAjxLUkvTke"
      },
      "execution_count": null,
      "outputs": []
    },
    {
      "cell_type": "code",
      "source": [
        "space[space['admissionid'] == 4251]"
      ],
      "metadata": {
        "id": "Ls1soMJSwFJQ"
      },
      "execution_count": null,
      "outputs": []
    }
  ]
}