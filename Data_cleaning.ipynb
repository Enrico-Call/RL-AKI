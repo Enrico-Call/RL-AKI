{
  "nbformat": 4,
  "nbformat_minor": 0,
  "metadata": {
    "colab": {
      "name": "MLRH_Preprocessing_Complete.ipynb",
      "provenance": [],
      "collapsed_sections": [],
      "include_colab_link": true
    },
    "kernelspec": {
      "display_name": "Python 3",
      "language": "python",
      "name": "python3"
    },
    "language_info": {
      "codemirror_mode": {
        "name": "ipython",
        "version": 3
      },
      "file_extension": ".py",
      "mimetype": "text/x-python",
      "name": "python",
      "nbconvert_exporter": "python",
      "pygments_lexer": "ipython3",
      "version": "3.8.8"
    }
  },
  "cells": [
    {
      "cell_type": "markdown",
      "metadata": {
        "id": "view-in-github",
        "colab_type": "text"
      },
      "source": [
        "<a href=\"https://colab.research.google.com/github/Enrico-Call/RL-AKI/blob/data-preparation/Data_cleaning.ipynb\" target=\"_parent\"><img src=\"https://colab.research.google.com/assets/colab-badge.svg\" alt=\"Open In Colab\"/></a>"
      ]
    },
    {
      "cell_type": "code",
      "metadata": {
        "cellView": "form",
        "id": "hQnpY5Kpm5rT"
      },
      "source": [
        "#sets the project id\n",
        "PROJECT_ID = \"mlrh-330919\" #@param {type:\"string\"}"
      ],
      "execution_count": 1,
      "outputs": []
    },
    {
      "cell_type": "code",
      "metadata": {
        "id": "v0L2i-Nnp7_R",
        "colab": {
          "base_uri": "https://localhost:8080/"
        },
        "outputId": "050ec8f4-d13f-43f9-bfc0-245ee4786615"
      },
      "source": [
        "import os\n",
        "from google.colab import auth\n",
        "from IPython.display import display\n",
        "from google.colab import drive\n",
        "import os\n",
        "import pandas as pd\n",
        "import matplotlib.pyplot as plt\n",
        "from scipy import stats\n",
        "import numpy as np\n",
        "\n",
        "drive.mount('/content/drive', force_remount=True)\n",
        "os.chdir('/content/drive/MyDrive/MLRFH')\n",
        " \n",
        "#sets dateset\n",
        "PROJECT_ID = 'mlrh-330919'\n",
        "DATASET_ID = 'version1_0_2'\n",
        "LOCATION = 'eu'\n",
        " \n",
        "#all libraries check this environment variable, so set it:\n",
        "os.environ[\"GOOGLE_CLOUD_PROJECT\"] = PROJECT_ID\n",
        " \n",
        "auth.authenticate_user()\n",
        "print('Authenticated')"
      ],
      "execution_count": 2,
      "outputs": [
        {
          "output_type": "stream",
          "name": "stdout",
          "text": [
            "Mounted at /content/drive\n",
            "Authenticated\n"
          ]
        }
      ]
    },
    {
      "cell_type": "code",
      "metadata": {
        "id": "Nyva7EbsU_yt"
      },
      "source": [
        "#Some preprocessing functions \n",
        "\n",
        "def to_cols(data):\n",
        "\n",
        "  grouped = data.pivot_table(index=['admissionid', 'time'], \n",
        "          columns=['item'], values='value')\n",
        "\n",
        "  return grouped\n",
        "  \n",
        "\n",
        "def to_cols_action(data):\n",
        "\n",
        "  grouped = data.pivot_table(index=['admissionid', 'time'], \n",
        "            columns=['item'], values='administered')\n",
        "\n",
        "  return grouped\n",
        "\n",
        "def remove_outliers(grouped):\n",
        "  #delete outliers\n",
        "  outliers = grouped.reset_index() #return to single index\n",
        "\n",
        "  #select outlier cols\n",
        "  all_cols = ['Kalium (bloed)', 'ABP gemiddeld', 'Kreatinine (bloed)', 'Natrium (bloed)', 'UrineCAD', 'UrineSupraPubis', 'UrineSpontaan', 'UrineUP', 'Kreatinine', 'Nefrodrain re Uit', 'Nefrodrain li Uit', 'UrineIncontinentie']\n",
        "  \n",
        "  grouped['Kalium (bloed)'][grouped['Kalium (bloed)'] > 8.] = np.nan\n",
        "  grouped['ABP gemiddeld'][grouped['ABP gemiddeld'] > 200.] = np.nan\n",
        "  grouped['Kreatinine (bloed)'][grouped['Kreatinine (bloed)'] > 220.] = np.nan\n",
        "  grouped['Natrium (bloed)'][grouped['Natrium (bloed)'] > 180.] = np.nan\n",
        "  grouped['UrineCAD'][grouped['UrineCAD'] > 750.] = np.nan\n",
        "\n",
        "\n",
        "  #return grouped[grouped[all_cols] >= 0]\n",
        "  grouped[all_cols] = grouped[all_cols].applymap(lambda x: np.nan if x < 0 else x)\n",
        "  return grouped\n",
        "\n",
        "def remove_outliers_action(grouped):\n",
        "  #delete outliers\n",
        "  outliers = grouped.reset_index() #return to single index\n",
        "\n",
        "  cols = ['Noradrenaline (Norepinefrine)', 'NaCl 0,45%/Glucose 2,5%']\n",
        "\n",
        "  #select outlier cols\n",
        "  grouped['Noradrenaline (Norepinefrine)'][grouped['Noradrenaline (Norepinefrine)'] > 10.] = np.nan\n",
        "  grouped['NaCl 0,45%/Glucose 2,5%'][grouped['NaCl 0,45%/Glucose 2,5%'] > 500.] = np.nan\n",
        "\n",
        "  grouped[cols] = grouped[cols].applymap(lambda x: np.nan if x < 0 else x)\n",
        "\n",
        "  return grouped\n",
        "\n",
        "def aggregate(outliers_removed):\n",
        "  #per patient, average the values in 4h timeslots\n",
        "  outliers_removed = outliers_removed.sort_values('time')\n",
        "  data_agg = outliers_removed.groupby([pd.Grouper(level='admissionid'), \n",
        "            pd.Grouper(level='time', freq='4H')]\n",
        "          ).mean()\n",
        "\n",
        "  return data_agg\n",
        "\n",
        "def aggregate_fancy(data):\n",
        "\n",
        "  #create new columns with cumulative count for consecutive nans\n",
        "  data['nancount'] = np.zeros(len(data))\n",
        "  data['nancount'] = data[\"Value\"].groupby((data[\"Value\"].notnull()).cumsum()).cumcount()\n",
        "\n",
        "  #manually set first row to 1 if nan since this is excluded in cumsum/count from line before\n",
        "  for i, v in enumerate(data[\"Value\"]):\n",
        "    if i == 0:\n",
        "      if np.isnan(v):\n",
        "        data[\"nancount\"][0] = 1\n",
        "\n",
        "  #if value is not nan, then use previous value + 1 to get total cumulative nan count including the non-nan value\n",
        "  #this is the value we want to divide through to get the right value per hour\n",
        "  for i, v in enumerate(data[\"nancount\"]):\n",
        "    if v == 0:\n",
        "      data[\"Value\"][i] = data[\"Value\"][i] / (data[\"nancount\"][i - 1] + 1)\n",
        "\n",
        "  #and then fill backwards\n",
        "  data[\"Value\"] = data[\"Value\"].bfill()\n",
        "  \n",
        "  #drop nancount col\n",
        "  data = data.drop(columns=\"nancount\")\n",
        "\n",
        "  return data\n",
        "\n",
        "def interpolate(data_agg):\n",
        "  #interpolate null values\n",
        "  return data_agg.interpolate(limit_direction='forward')\n",
        "\n",
        "\n",
        "def process_statespace(data):\n",
        "  data['time'] = pd.to_datetime(data['time'], unit='ms')\n",
        "  print(\"data\", data.columns)\n",
        "  grouped = to_cols(data)\n",
        "  grouped = remove_outliers(grouped)\n",
        "  data_agg = aggregate(grouped)\n",
        "  data_filled = interpolate(data_agg)\n",
        "\n",
        "  return data_filled.reset_index()\n",
        "  \n",
        "def process_actionspace(data):\n",
        "  data['time'] = pd.to_datetime(data['time'], unit='ms')\n",
        "  print(\"data\", data.columns)\n",
        "  grouped = to_cols_action(data)\n",
        "  grouped = remove_outliers_action(grouped)\n",
        "  data_agg = aggregate(grouped)\n",
        "  data_filled = interpolate(data_agg)\n",
        "\n",
        "  return data_filled.reset_index()"
      ],
      "execution_count": 3,
      "outputs": []
    },
    {
      "cell_type": "code",
      "source": [
        "#plot distribution of cols\n",
        "\n",
        "def draw_histograms(df, variables, n_rows, n_cols):\n",
        "    colors = [\"pink\", \"orange\", \"yellow\", \"green\", \"blue\", \"purple\", \"black\", \"darkgreen\", \"darkblue\", \"grey\", \"lightblue\", \"red\"]\n",
        "    fig=plt.figure()\n",
        "    for i, var_name in enumerate(variables):\n",
        "        ax=fig.add_subplot(n_rows,n_cols,i+1)\n",
        "        df[var_name].hist(bins=100,ax=ax, color=colors[i])\n",
        "        ax.set_title(var_name)\n",
        "    fig.tight_layout()  # Improves appearance a bit.\n",
        "    plt.show()\n",
        "\n",
        "#normalization, nice for plotting\n",
        "\n",
        "def minmax(df):\n",
        "    return (df - df.min()) / ( df.max() - df.min())"
      ],
      "metadata": {
        "id": "gnhJELl1t5cG"
      },
      "execution_count": 4,
      "outputs": []
    },
    {
      "cell_type": "code",
      "metadata": {
        "id": "p9st0wgM3mmT"
      },
      "source": [
        "statespace = pd.read_csv('nieuw_state_space.csv')\n",
        "actionspace = pd.read_csv('nieuw_action_space.csv')"
      ],
      "execution_count": 5,
      "outputs": []
    },
    {
      "cell_type": "code",
      "source": [
        "statespace.head()"
      ],
      "metadata": {
        "id": "_RBSmDVxVjqP",
        "colab": {
          "base_uri": "https://localhost:8080/",
          "height": 214
        },
        "outputId": "0002c3cb-e816-42fc-fdfe-7cdd16e16118"
      },
      "execution_count": null,
      "outputs": [
        {
          "output_type": "execute_result",
          "data": {
            "text/plain": [
              "   Unnamed: 0  admissionid  itemid                item  value registeredby  \\\n",
              "0           0        18721    9941  Kreatinine (bloed)   50.0      Systeem   \n",
              "1           1        12761    9941  Kreatinine (bloed)   46.0      Systeem   \n",
              "2           2        15370    9941  Kreatinine (bloed)   42.0      Systeem   \n",
              "3           3        14030    9941  Kreatinine (bloed)  231.0      Systeem   \n",
              "4           4        20964    9941  Kreatinine (bloed)  640.0      Systeem   \n",
              "\n",
              "  weightgroup heightgroup gender agegroup  admittedat  manual_entry     time  \n",
              "0     100-109     160-169  Vrouw    50-59           0         False  12641.0  \n",
              "1       60-69     170-179    Man    60-69  4384260000         False  40358.0  \n",
              "2         59-     160-169  Vrouw    70-79           0         False  22504.0  \n",
              "3       80-89        190+    Man    40-49           0         False    574.0  \n",
              "4       70-79     170-179    Man    70-79           0         False   1472.0  "
            ],
            "text/html": [
              "\n",
              "  <div id=\"df-e827b5a6-d901-452c-b0a7-a9fd12edc3a7\">\n",
              "    <div class=\"colab-df-container\">\n",
              "      <div>\n",
              "<style scoped>\n",
              "    .dataframe tbody tr th:only-of-type {\n",
              "        vertical-align: middle;\n",
              "    }\n",
              "\n",
              "    .dataframe tbody tr th {\n",
              "        vertical-align: top;\n",
              "    }\n",
              "\n",
              "    .dataframe thead th {\n",
              "        text-align: right;\n",
              "    }\n",
              "</style>\n",
              "<table border=\"1\" class=\"dataframe\">\n",
              "  <thead>\n",
              "    <tr style=\"text-align: right;\">\n",
              "      <th></th>\n",
              "      <th>Unnamed: 0</th>\n",
              "      <th>admissionid</th>\n",
              "      <th>itemid</th>\n",
              "      <th>item</th>\n",
              "      <th>value</th>\n",
              "      <th>registeredby</th>\n",
              "      <th>weightgroup</th>\n",
              "      <th>heightgroup</th>\n",
              "      <th>gender</th>\n",
              "      <th>agegroup</th>\n",
              "      <th>admittedat</th>\n",
              "      <th>manual_entry</th>\n",
              "      <th>time</th>\n",
              "    </tr>\n",
              "  </thead>\n",
              "  <tbody>\n",
              "    <tr>\n",
              "      <th>0</th>\n",
              "      <td>0</td>\n",
              "      <td>18721</td>\n",
              "      <td>9941</td>\n",
              "      <td>Kreatinine (bloed)</td>\n",
              "      <td>50.0</td>\n",
              "      <td>Systeem</td>\n",
              "      <td>100-109</td>\n",
              "      <td>160-169</td>\n",
              "      <td>Vrouw</td>\n",
              "      <td>50-59</td>\n",
              "      <td>0</td>\n",
              "      <td>False</td>\n",
              "      <td>12641.0</td>\n",
              "    </tr>\n",
              "    <tr>\n",
              "      <th>1</th>\n",
              "      <td>1</td>\n",
              "      <td>12761</td>\n",
              "      <td>9941</td>\n",
              "      <td>Kreatinine (bloed)</td>\n",
              "      <td>46.0</td>\n",
              "      <td>Systeem</td>\n",
              "      <td>60-69</td>\n",
              "      <td>170-179</td>\n",
              "      <td>Man</td>\n",
              "      <td>60-69</td>\n",
              "      <td>4384260000</td>\n",
              "      <td>False</td>\n",
              "      <td>40358.0</td>\n",
              "    </tr>\n",
              "    <tr>\n",
              "      <th>2</th>\n",
              "      <td>2</td>\n",
              "      <td>15370</td>\n",
              "      <td>9941</td>\n",
              "      <td>Kreatinine (bloed)</td>\n",
              "      <td>42.0</td>\n",
              "      <td>Systeem</td>\n",
              "      <td>59-</td>\n",
              "      <td>160-169</td>\n",
              "      <td>Vrouw</td>\n",
              "      <td>70-79</td>\n",
              "      <td>0</td>\n",
              "      <td>False</td>\n",
              "      <td>22504.0</td>\n",
              "    </tr>\n",
              "    <tr>\n",
              "      <th>3</th>\n",
              "      <td>3</td>\n",
              "      <td>14030</td>\n",
              "      <td>9941</td>\n",
              "      <td>Kreatinine (bloed)</td>\n",
              "      <td>231.0</td>\n",
              "      <td>Systeem</td>\n",
              "      <td>80-89</td>\n",
              "      <td>190+</td>\n",
              "      <td>Man</td>\n",
              "      <td>40-49</td>\n",
              "      <td>0</td>\n",
              "      <td>False</td>\n",
              "      <td>574.0</td>\n",
              "    </tr>\n",
              "    <tr>\n",
              "      <th>4</th>\n",
              "      <td>4</td>\n",
              "      <td>20964</td>\n",
              "      <td>9941</td>\n",
              "      <td>Kreatinine (bloed)</td>\n",
              "      <td>640.0</td>\n",
              "      <td>Systeem</td>\n",
              "      <td>70-79</td>\n",
              "      <td>170-179</td>\n",
              "      <td>Man</td>\n",
              "      <td>70-79</td>\n",
              "      <td>0</td>\n",
              "      <td>False</td>\n",
              "      <td>1472.0</td>\n",
              "    </tr>\n",
              "  </tbody>\n",
              "</table>\n",
              "</div>\n",
              "      <button class=\"colab-df-convert\" onclick=\"convertToInteractive('df-e827b5a6-d901-452c-b0a7-a9fd12edc3a7')\"\n",
              "              title=\"Convert this dataframe to an interactive table.\"\n",
              "              style=\"display:none;\">\n",
              "        \n",
              "  <svg xmlns=\"http://www.w3.org/2000/svg\" height=\"24px\"viewBox=\"0 0 24 24\"\n",
              "       width=\"24px\">\n",
              "    <path d=\"M0 0h24v24H0V0z\" fill=\"none\"/>\n",
              "    <path d=\"M18.56 5.44l.94 2.06.94-2.06 2.06-.94-2.06-.94-.94-2.06-.94 2.06-2.06.94zm-11 1L8.5 8.5l.94-2.06 2.06-.94-2.06-.94L8.5 2.5l-.94 2.06-2.06.94zm10 10l.94 2.06.94-2.06 2.06-.94-2.06-.94-.94-2.06-.94 2.06-2.06.94z\"/><path d=\"M17.41 7.96l-1.37-1.37c-.4-.4-.92-.59-1.43-.59-.52 0-1.04.2-1.43.59L10.3 9.45l-7.72 7.72c-.78.78-.78 2.05 0 2.83L4 21.41c.39.39.9.59 1.41.59.51 0 1.02-.2 1.41-.59l7.78-7.78 2.81-2.81c.8-.78.8-2.07 0-2.86zM5.41 20L4 18.59l7.72-7.72 1.47 1.35L5.41 20z\"/>\n",
              "  </svg>\n",
              "      </button>\n",
              "      \n",
              "  <style>\n",
              "    .colab-df-container {\n",
              "      display:flex;\n",
              "      flex-wrap:wrap;\n",
              "      gap: 12px;\n",
              "    }\n",
              "\n",
              "    .colab-df-convert {\n",
              "      background-color: #E8F0FE;\n",
              "      border: none;\n",
              "      border-radius: 50%;\n",
              "      cursor: pointer;\n",
              "      display: none;\n",
              "      fill: #1967D2;\n",
              "      height: 32px;\n",
              "      padding: 0 0 0 0;\n",
              "      width: 32px;\n",
              "    }\n",
              "\n",
              "    .colab-df-convert:hover {\n",
              "      background-color: #E2EBFA;\n",
              "      box-shadow: 0px 1px 2px rgba(60, 64, 67, 0.3), 0px 1px 3px 1px rgba(60, 64, 67, 0.15);\n",
              "      fill: #174EA6;\n",
              "    }\n",
              "\n",
              "    [theme=dark] .colab-df-convert {\n",
              "      background-color: #3B4455;\n",
              "      fill: #D2E3FC;\n",
              "    }\n",
              "\n",
              "    [theme=dark] .colab-df-convert:hover {\n",
              "      background-color: #434B5C;\n",
              "      box-shadow: 0px 1px 3px 1px rgba(0, 0, 0, 0.15);\n",
              "      filter: drop-shadow(0px 1px 2px rgba(0, 0, 0, 0.3));\n",
              "      fill: #FFFFFF;\n",
              "    }\n",
              "  </style>\n",
              "\n",
              "      <script>\n",
              "        const buttonEl =\n",
              "          document.querySelector('#df-e827b5a6-d901-452c-b0a7-a9fd12edc3a7 button.colab-df-convert');\n",
              "        buttonEl.style.display =\n",
              "          google.colab.kernel.accessAllowed ? 'block' : 'none';\n",
              "\n",
              "        async function convertToInteractive(key) {\n",
              "          const element = document.querySelector('#df-e827b5a6-d901-452c-b0a7-a9fd12edc3a7');\n",
              "          const dataTable =\n",
              "            await google.colab.kernel.invokeFunction('convertToInteractive',\n",
              "                                                     [key], {});\n",
              "          if (!dataTable) return;\n",
              "\n",
              "          const docLinkHtml = 'Like what you see? Visit the ' +\n",
              "            '<a target=\"_blank\" href=https://colab.research.google.com/notebooks/data_table.ipynb>data table notebook</a>'\n",
              "            + ' to learn more about interactive tables.';\n",
              "          element.innerHTML = '';\n",
              "          dataTable['output_type'] = 'display_data';\n",
              "          await google.colab.output.renderOutput(dataTable, element);\n",
              "          const docLink = document.createElement('div');\n",
              "          docLink.innerHTML = docLinkHtml;\n",
              "          element.appendChild(docLink);\n",
              "        }\n",
              "      </script>\n",
              "    </div>\n",
              "  </div>\n",
              "  "
            ]
          },
          "metadata": {},
          "execution_count": 8
        }
      ]
    },
    {
      "cell_type": "code",
      "source": [
        "#example for the data aggregation with dummy dataframe (ameets example from email)\n",
        "\n",
        "test_df = pd.DataFrame({\"Value\": [np.nan, 60, np.nan, np.nan, np.nan, 90, np.nan, 60]})\n",
        "\n",
        "#test_df.Value.isnull().astype(int).groupby(test_df.Value.notnull().astype(int).cumsum()).sum()\n",
        "test_df['nancount'] = np.zeros(len(test_df))\n",
        "\n",
        "#test_df[\"Value\"].groupby((test_df[\"Value\"].isnull()).cumsum()).cumcount()\n",
        "\n",
        "test_df['nancount'] = test_df[\"Value\"].groupby((test_df[\"Value\"].notnull()).cumsum()).cumcount()\n",
        "\n",
        "for i, v in enumerate(test_df[\"Value\"]):\n",
        "  #set first row to 1 if nan since this is excluded in cumsum/count\n",
        "  if i == 0:\n",
        "    if np.isnan(v):\n",
        "      test_df[\"nancount\"][0] = 1\n",
        "\n",
        "for i, v in enumerate(test_df[\"nancount\"]):\n",
        "  #if value == 0 (so no nan), then use previous value + 1 to get total cumulative nan count including the non-nan value\n",
        "  if v == 0:\n",
        "    test_df[\"Value\"][i] = test_df[\"Value\"][i] / (test_df[\"nancount\"][i - 1] + 1)\n",
        "\n",
        "test_df[\"Value\"] = test_df[\"Value\"].bfill()\n",
        "\n",
        "test_df = test_df.drop(columns=\"nancount\")\n",
        "\n",
        "test_df"
      ],
      "metadata": {
        "colab": {
          "base_uri": "https://localhost:8080/",
          "height": 456
        },
        "id": "gPqujGhUuqFa",
        "outputId": "ce442d34-4be2-4acb-8f56-88f97e68e7d0"
      },
      "execution_count": 235,
      "outputs": [
        {
          "output_type": "stream",
          "name": "stderr",
          "text": [
            "/usr/local/lib/python3.7/dist-packages/ipykernel_launcher.py:16: SettingWithCopyWarning: \n",
            "A value is trying to be set on a copy of a slice from a DataFrame\n",
            "\n",
            "See the caveats in the documentation: https://pandas.pydata.org/pandas-docs/stable/user_guide/indexing.html#returning-a-view-versus-a-copy\n",
            "  app.launch_new_instance()\n",
            "/usr/local/lib/python3.7/dist-packages/ipykernel_launcher.py:21: SettingWithCopyWarning: \n",
            "A value is trying to be set on a copy of a slice from a DataFrame\n",
            "\n",
            "See the caveats in the documentation: https://pandas.pydata.org/pandas-docs/stable/user_guide/indexing.html#returning-a-view-versus-a-copy\n"
          ]
        },
        {
          "output_type": "execute_result",
          "data": {
            "text/plain": [
              "   Value\n",
              "0   30.0\n",
              "1   30.0\n",
              "2   22.5\n",
              "3   22.5\n",
              "4   22.5\n",
              "5   22.5\n",
              "6   30.0\n",
              "7   30.0"
            ],
            "text/html": [
              "\n",
              "  <div id=\"df-9bf17df2-43dd-4f7f-a710-08d9830ec249\">\n",
              "    <div class=\"colab-df-container\">\n",
              "      <div>\n",
              "<style scoped>\n",
              "    .dataframe tbody tr th:only-of-type {\n",
              "        vertical-align: middle;\n",
              "    }\n",
              "\n",
              "    .dataframe tbody tr th {\n",
              "        vertical-align: top;\n",
              "    }\n",
              "\n",
              "    .dataframe thead th {\n",
              "        text-align: right;\n",
              "    }\n",
              "</style>\n",
              "<table border=\"1\" class=\"dataframe\">\n",
              "  <thead>\n",
              "    <tr style=\"text-align: right;\">\n",
              "      <th></th>\n",
              "      <th>Value</th>\n",
              "    </tr>\n",
              "  </thead>\n",
              "  <tbody>\n",
              "    <tr>\n",
              "      <th>0</th>\n",
              "      <td>30.0</td>\n",
              "    </tr>\n",
              "    <tr>\n",
              "      <th>1</th>\n",
              "      <td>30.0</td>\n",
              "    </tr>\n",
              "    <tr>\n",
              "      <th>2</th>\n",
              "      <td>22.5</td>\n",
              "    </tr>\n",
              "    <tr>\n",
              "      <th>3</th>\n",
              "      <td>22.5</td>\n",
              "    </tr>\n",
              "    <tr>\n",
              "      <th>4</th>\n",
              "      <td>22.5</td>\n",
              "    </tr>\n",
              "    <tr>\n",
              "      <th>5</th>\n",
              "      <td>22.5</td>\n",
              "    </tr>\n",
              "    <tr>\n",
              "      <th>6</th>\n",
              "      <td>30.0</td>\n",
              "    </tr>\n",
              "    <tr>\n",
              "      <th>7</th>\n",
              "      <td>30.0</td>\n",
              "    </tr>\n",
              "  </tbody>\n",
              "</table>\n",
              "</div>\n",
              "      <button class=\"colab-df-convert\" onclick=\"convertToInteractive('df-9bf17df2-43dd-4f7f-a710-08d9830ec249')\"\n",
              "              title=\"Convert this dataframe to an interactive table.\"\n",
              "              style=\"display:none;\">\n",
              "        \n",
              "  <svg xmlns=\"http://www.w3.org/2000/svg\" height=\"24px\"viewBox=\"0 0 24 24\"\n",
              "       width=\"24px\">\n",
              "    <path d=\"M0 0h24v24H0V0z\" fill=\"none\"/>\n",
              "    <path d=\"M18.56 5.44l.94 2.06.94-2.06 2.06-.94-2.06-.94-.94-2.06-.94 2.06-2.06.94zm-11 1L8.5 8.5l.94-2.06 2.06-.94-2.06-.94L8.5 2.5l-.94 2.06-2.06.94zm10 10l.94 2.06.94-2.06 2.06-.94-2.06-.94-.94-2.06-.94 2.06-2.06.94z\"/><path d=\"M17.41 7.96l-1.37-1.37c-.4-.4-.92-.59-1.43-.59-.52 0-1.04.2-1.43.59L10.3 9.45l-7.72 7.72c-.78.78-.78 2.05 0 2.83L4 21.41c.39.39.9.59 1.41.59.51 0 1.02-.2 1.41-.59l7.78-7.78 2.81-2.81c.8-.78.8-2.07 0-2.86zM5.41 20L4 18.59l7.72-7.72 1.47 1.35L5.41 20z\"/>\n",
              "  </svg>\n",
              "      </button>\n",
              "      \n",
              "  <style>\n",
              "    .colab-df-container {\n",
              "      display:flex;\n",
              "      flex-wrap:wrap;\n",
              "      gap: 12px;\n",
              "    }\n",
              "\n",
              "    .colab-df-convert {\n",
              "      background-color: #E8F0FE;\n",
              "      border: none;\n",
              "      border-radius: 50%;\n",
              "      cursor: pointer;\n",
              "      display: none;\n",
              "      fill: #1967D2;\n",
              "      height: 32px;\n",
              "      padding: 0 0 0 0;\n",
              "      width: 32px;\n",
              "    }\n",
              "\n",
              "    .colab-df-convert:hover {\n",
              "      background-color: #E2EBFA;\n",
              "      box-shadow: 0px 1px 2px rgba(60, 64, 67, 0.3), 0px 1px 3px 1px rgba(60, 64, 67, 0.15);\n",
              "      fill: #174EA6;\n",
              "    }\n",
              "\n",
              "    [theme=dark] .colab-df-convert {\n",
              "      background-color: #3B4455;\n",
              "      fill: #D2E3FC;\n",
              "    }\n",
              "\n",
              "    [theme=dark] .colab-df-convert:hover {\n",
              "      background-color: #434B5C;\n",
              "      box-shadow: 0px 1px 3px 1px rgba(0, 0, 0, 0.15);\n",
              "      filter: drop-shadow(0px 1px 2px rgba(0, 0, 0, 0.3));\n",
              "      fill: #FFFFFF;\n",
              "    }\n",
              "  </style>\n",
              "\n",
              "      <script>\n",
              "        const buttonEl =\n",
              "          document.querySelector('#df-9bf17df2-43dd-4f7f-a710-08d9830ec249 button.colab-df-convert');\n",
              "        buttonEl.style.display =\n",
              "          google.colab.kernel.accessAllowed ? 'block' : 'none';\n",
              "\n",
              "        async function convertToInteractive(key) {\n",
              "          const element = document.querySelector('#df-9bf17df2-43dd-4f7f-a710-08d9830ec249');\n",
              "          const dataTable =\n",
              "            await google.colab.kernel.invokeFunction('convertToInteractive',\n",
              "                                                     [key], {});\n",
              "          if (!dataTable) return;\n",
              "\n",
              "          const docLinkHtml = 'Like what you see? Visit the ' +\n",
              "            '<a target=\"_blank\" href=https://colab.research.google.com/notebooks/data_table.ipynb>data table notebook</a>'\n",
              "            + ' to learn more about interactive tables.';\n",
              "          element.innerHTML = '';\n",
              "          dataTable['output_type'] = 'display_data';\n",
              "          await google.colab.output.renderOutput(dataTable, element);\n",
              "          const docLink = document.createElement('div');\n",
              "          docLink.innerHTML = docLinkHtml;\n",
              "          element.appendChild(docLink);\n",
              "        }\n",
              "      </script>\n",
              "    </div>\n",
              "  </div>\n",
              "  "
            ]
          },
          "metadata": {},
          "execution_count": 235
        }
      ]
    },
    {
      "cell_type": "code",
      "source": [
        "test_df"
      ],
      "metadata": {
        "colab": {
          "base_uri": "https://localhost:8080/",
          "height": 300
        },
        "id": "M_mqH9fpftiE",
        "outputId": "b8060c02-938b-446d-e27d-fc4475a5486a"
      },
      "execution_count": 232,
      "outputs": [
        {
          "output_type": "execute_result",
          "data": {
            "text/plain": [
              "   Value  nancount\n",
              "0   30.0         1\n",
              "1   30.0         0\n",
              "2   22.5         1\n",
              "3   22.5         2\n",
              "4   22.5         3\n",
              "5   22.5         0\n",
              "6   30.0         1\n",
              "7   30.0         0"
            ],
            "text/html": [
              "\n",
              "  <div id=\"df-06ac4ab9-a2ae-4216-a584-b2fb1c747448\">\n",
              "    <div class=\"colab-df-container\">\n",
              "      <div>\n",
              "<style scoped>\n",
              "    .dataframe tbody tr th:only-of-type {\n",
              "        vertical-align: middle;\n",
              "    }\n",
              "\n",
              "    .dataframe tbody tr th {\n",
              "        vertical-align: top;\n",
              "    }\n",
              "\n",
              "    .dataframe thead th {\n",
              "        text-align: right;\n",
              "    }\n",
              "</style>\n",
              "<table border=\"1\" class=\"dataframe\">\n",
              "  <thead>\n",
              "    <tr style=\"text-align: right;\">\n",
              "      <th></th>\n",
              "      <th>Value</th>\n",
              "      <th>nancount</th>\n",
              "    </tr>\n",
              "  </thead>\n",
              "  <tbody>\n",
              "    <tr>\n",
              "      <th>0</th>\n",
              "      <td>30.0</td>\n",
              "      <td>1</td>\n",
              "    </tr>\n",
              "    <tr>\n",
              "      <th>1</th>\n",
              "      <td>30.0</td>\n",
              "      <td>0</td>\n",
              "    </tr>\n",
              "    <tr>\n",
              "      <th>2</th>\n",
              "      <td>22.5</td>\n",
              "      <td>1</td>\n",
              "    </tr>\n",
              "    <tr>\n",
              "      <th>3</th>\n",
              "      <td>22.5</td>\n",
              "      <td>2</td>\n",
              "    </tr>\n",
              "    <tr>\n",
              "      <th>4</th>\n",
              "      <td>22.5</td>\n",
              "      <td>3</td>\n",
              "    </tr>\n",
              "    <tr>\n",
              "      <th>5</th>\n",
              "      <td>22.5</td>\n",
              "      <td>0</td>\n",
              "    </tr>\n",
              "    <tr>\n",
              "      <th>6</th>\n",
              "      <td>30.0</td>\n",
              "      <td>1</td>\n",
              "    </tr>\n",
              "    <tr>\n",
              "      <th>7</th>\n",
              "      <td>30.0</td>\n",
              "      <td>0</td>\n",
              "    </tr>\n",
              "  </tbody>\n",
              "</table>\n",
              "</div>\n",
              "      <button class=\"colab-df-convert\" onclick=\"convertToInteractive('df-06ac4ab9-a2ae-4216-a584-b2fb1c747448')\"\n",
              "              title=\"Convert this dataframe to an interactive table.\"\n",
              "              style=\"display:none;\">\n",
              "        \n",
              "  <svg xmlns=\"http://www.w3.org/2000/svg\" height=\"24px\"viewBox=\"0 0 24 24\"\n",
              "       width=\"24px\">\n",
              "    <path d=\"M0 0h24v24H0V0z\" fill=\"none\"/>\n",
              "    <path d=\"M18.56 5.44l.94 2.06.94-2.06 2.06-.94-2.06-.94-.94-2.06-.94 2.06-2.06.94zm-11 1L8.5 8.5l.94-2.06 2.06-.94-2.06-.94L8.5 2.5l-.94 2.06-2.06.94zm10 10l.94 2.06.94-2.06 2.06-.94-2.06-.94-.94-2.06-.94 2.06-2.06.94z\"/><path d=\"M17.41 7.96l-1.37-1.37c-.4-.4-.92-.59-1.43-.59-.52 0-1.04.2-1.43.59L10.3 9.45l-7.72 7.72c-.78.78-.78 2.05 0 2.83L4 21.41c.39.39.9.59 1.41.59.51 0 1.02-.2 1.41-.59l7.78-7.78 2.81-2.81c.8-.78.8-2.07 0-2.86zM5.41 20L4 18.59l7.72-7.72 1.47 1.35L5.41 20z\"/>\n",
              "  </svg>\n",
              "      </button>\n",
              "      \n",
              "  <style>\n",
              "    .colab-df-container {\n",
              "      display:flex;\n",
              "      flex-wrap:wrap;\n",
              "      gap: 12px;\n",
              "    }\n",
              "\n",
              "    .colab-df-convert {\n",
              "      background-color: #E8F0FE;\n",
              "      border: none;\n",
              "      border-radius: 50%;\n",
              "      cursor: pointer;\n",
              "      display: none;\n",
              "      fill: #1967D2;\n",
              "      height: 32px;\n",
              "      padding: 0 0 0 0;\n",
              "      width: 32px;\n",
              "    }\n",
              "\n",
              "    .colab-df-convert:hover {\n",
              "      background-color: #E2EBFA;\n",
              "      box-shadow: 0px 1px 2px rgba(60, 64, 67, 0.3), 0px 1px 3px 1px rgba(60, 64, 67, 0.15);\n",
              "      fill: #174EA6;\n",
              "    }\n",
              "\n",
              "    [theme=dark] .colab-df-convert {\n",
              "      background-color: #3B4455;\n",
              "      fill: #D2E3FC;\n",
              "    }\n",
              "\n",
              "    [theme=dark] .colab-df-convert:hover {\n",
              "      background-color: #434B5C;\n",
              "      box-shadow: 0px 1px 3px 1px rgba(0, 0, 0, 0.15);\n",
              "      filter: drop-shadow(0px 1px 2px rgba(0, 0, 0, 0.3));\n",
              "      fill: #FFFFFF;\n",
              "    }\n",
              "  </style>\n",
              "\n",
              "      <script>\n",
              "        const buttonEl =\n",
              "          document.querySelector('#df-06ac4ab9-a2ae-4216-a584-b2fb1c747448 button.colab-df-convert');\n",
              "        buttonEl.style.display =\n",
              "          google.colab.kernel.accessAllowed ? 'block' : 'none';\n",
              "\n",
              "        async function convertToInteractive(key) {\n",
              "          const element = document.querySelector('#df-06ac4ab9-a2ae-4216-a584-b2fb1c747448');\n",
              "          const dataTable =\n",
              "            await google.colab.kernel.invokeFunction('convertToInteractive',\n",
              "                                                     [key], {});\n",
              "          if (!dataTable) return;\n",
              "\n",
              "          const docLinkHtml = 'Like what you see? Visit the ' +\n",
              "            '<a target=\"_blank\" href=https://colab.research.google.com/notebooks/data_table.ipynb>data table notebook</a>'\n",
              "            + ' to learn more about interactive tables.';\n",
              "          element.innerHTML = '';\n",
              "          dataTable['output_type'] = 'display_data';\n",
              "          await google.colab.output.renderOutput(dataTable, element);\n",
              "          const docLink = document.createElement('div');\n",
              "          docLink.innerHTML = docLinkHtml;\n",
              "          element.appendChild(docLink);\n",
              "        }\n",
              "      </script>\n",
              "    </div>\n",
              "  </div>\n",
              "  "
            ]
          },
          "metadata": {},
          "execution_count": 232
        }
      ]
    },
    {
      "cell_type": "code",
      "source": [
        "test_df"
      ],
      "metadata": {
        "colab": {
          "base_uri": "https://localhost:8080/",
          "height": 300
        },
        "id": "YG60AV9JaUm7",
        "outputId": "1d45edef-059b-46ae-d916-d274a03f1225"
      },
      "execution_count": 72,
      "outputs": [
        {
          "output_type": "execute_result",
          "data": {
            "text/plain": [
              "   Value\n",
              "0    NaN\n",
              "1   60.0\n",
              "2    NaN\n",
              "3    NaN\n",
              "4    NaN\n",
              "5   90.0\n",
              "6    NaN\n",
              "7   60.0"
            ],
            "text/html": [
              "\n",
              "  <div id=\"df-db88eeca-946e-4534-9550-f63f7eeb9a33\">\n",
              "    <div class=\"colab-df-container\">\n",
              "      <div>\n",
              "<style scoped>\n",
              "    .dataframe tbody tr th:only-of-type {\n",
              "        vertical-align: middle;\n",
              "    }\n",
              "\n",
              "    .dataframe tbody tr th {\n",
              "        vertical-align: top;\n",
              "    }\n",
              "\n",
              "    .dataframe thead th {\n",
              "        text-align: right;\n",
              "    }\n",
              "</style>\n",
              "<table border=\"1\" class=\"dataframe\">\n",
              "  <thead>\n",
              "    <tr style=\"text-align: right;\">\n",
              "      <th></th>\n",
              "      <th>Value</th>\n",
              "    </tr>\n",
              "  </thead>\n",
              "  <tbody>\n",
              "    <tr>\n",
              "      <th>0</th>\n",
              "      <td>NaN</td>\n",
              "    </tr>\n",
              "    <tr>\n",
              "      <th>1</th>\n",
              "      <td>60.0</td>\n",
              "    </tr>\n",
              "    <tr>\n",
              "      <th>2</th>\n",
              "      <td>NaN</td>\n",
              "    </tr>\n",
              "    <tr>\n",
              "      <th>3</th>\n",
              "      <td>NaN</td>\n",
              "    </tr>\n",
              "    <tr>\n",
              "      <th>4</th>\n",
              "      <td>NaN</td>\n",
              "    </tr>\n",
              "    <tr>\n",
              "      <th>5</th>\n",
              "      <td>90.0</td>\n",
              "    </tr>\n",
              "    <tr>\n",
              "      <th>6</th>\n",
              "      <td>NaN</td>\n",
              "    </tr>\n",
              "    <tr>\n",
              "      <th>7</th>\n",
              "      <td>60.0</td>\n",
              "    </tr>\n",
              "  </tbody>\n",
              "</table>\n",
              "</div>\n",
              "      <button class=\"colab-df-convert\" onclick=\"convertToInteractive('df-db88eeca-946e-4534-9550-f63f7eeb9a33')\"\n",
              "              title=\"Convert this dataframe to an interactive table.\"\n",
              "              style=\"display:none;\">\n",
              "        \n",
              "  <svg xmlns=\"http://www.w3.org/2000/svg\" height=\"24px\"viewBox=\"0 0 24 24\"\n",
              "       width=\"24px\">\n",
              "    <path d=\"M0 0h24v24H0V0z\" fill=\"none\"/>\n",
              "    <path d=\"M18.56 5.44l.94 2.06.94-2.06 2.06-.94-2.06-.94-.94-2.06-.94 2.06-2.06.94zm-11 1L8.5 8.5l.94-2.06 2.06-.94-2.06-.94L8.5 2.5l-.94 2.06-2.06.94zm10 10l.94 2.06.94-2.06 2.06-.94-2.06-.94-.94-2.06-.94 2.06-2.06.94z\"/><path d=\"M17.41 7.96l-1.37-1.37c-.4-.4-.92-.59-1.43-.59-.52 0-1.04.2-1.43.59L10.3 9.45l-7.72 7.72c-.78.78-.78 2.05 0 2.83L4 21.41c.39.39.9.59 1.41.59.51 0 1.02-.2 1.41-.59l7.78-7.78 2.81-2.81c.8-.78.8-2.07 0-2.86zM5.41 20L4 18.59l7.72-7.72 1.47 1.35L5.41 20z\"/>\n",
              "  </svg>\n",
              "      </button>\n",
              "      \n",
              "  <style>\n",
              "    .colab-df-container {\n",
              "      display:flex;\n",
              "      flex-wrap:wrap;\n",
              "      gap: 12px;\n",
              "    }\n",
              "\n",
              "    .colab-df-convert {\n",
              "      background-color: #E8F0FE;\n",
              "      border: none;\n",
              "      border-radius: 50%;\n",
              "      cursor: pointer;\n",
              "      display: none;\n",
              "      fill: #1967D2;\n",
              "      height: 32px;\n",
              "      padding: 0 0 0 0;\n",
              "      width: 32px;\n",
              "    }\n",
              "\n",
              "    .colab-df-convert:hover {\n",
              "      background-color: #E2EBFA;\n",
              "      box-shadow: 0px 1px 2px rgba(60, 64, 67, 0.3), 0px 1px 3px 1px rgba(60, 64, 67, 0.15);\n",
              "      fill: #174EA6;\n",
              "    }\n",
              "\n",
              "    [theme=dark] .colab-df-convert {\n",
              "      background-color: #3B4455;\n",
              "      fill: #D2E3FC;\n",
              "    }\n",
              "\n",
              "    [theme=dark] .colab-df-convert:hover {\n",
              "      background-color: #434B5C;\n",
              "      box-shadow: 0px 1px 3px 1px rgba(0, 0, 0, 0.15);\n",
              "      filter: drop-shadow(0px 1px 2px rgba(0, 0, 0, 0.3));\n",
              "      fill: #FFFFFF;\n",
              "    }\n",
              "  </style>\n",
              "\n",
              "      <script>\n",
              "        const buttonEl =\n",
              "          document.querySelector('#df-db88eeca-946e-4534-9550-f63f7eeb9a33 button.colab-df-convert');\n",
              "        buttonEl.style.display =\n",
              "          google.colab.kernel.accessAllowed ? 'block' : 'none';\n",
              "\n",
              "        async function convertToInteractive(key) {\n",
              "          const element = document.querySelector('#df-db88eeca-946e-4534-9550-f63f7eeb9a33');\n",
              "          const dataTable =\n",
              "            await google.colab.kernel.invokeFunction('convertToInteractive',\n",
              "                                                     [key], {});\n",
              "          if (!dataTable) return;\n",
              "\n",
              "          const docLinkHtml = 'Like what you see? Visit the ' +\n",
              "            '<a target=\"_blank\" href=https://colab.research.google.com/notebooks/data_table.ipynb>data table notebook</a>'\n",
              "            + ' to learn more about interactive tables.';\n",
              "          element.innerHTML = '';\n",
              "          dataTable['output_type'] = 'display_data';\n",
              "          await google.colab.output.renderOutput(dataTable, element);\n",
              "          const docLink = document.createElement('div');\n",
              "          docLink.innerHTML = docLinkHtml;\n",
              "          element.appendChild(docLink);\n",
              "        }\n",
              "      </script>\n",
              "    </div>\n",
              "  </div>\n",
              "  "
            ]
          },
          "metadata": {},
          "execution_count": 72
        }
      ]
    },
    {
      "cell_type": "code",
      "source": [
        "#Plot before distributions\n",
        "\n",
        "\n",
        "#statespace overview\n",
        "# 6840,   --Natrium\n",
        "#         6642,   --ABP Mean Blood Pressure\n",
        "#         6679,   --Niet invasieve bloeddruk gemiddeld\n",
        "#         6835,   --Kalium mmol/l \n",
        "#         6836,   --Kreatinine µmol/l (erroneously documented as µmol)\n",
        "#         8794,   --UrineCAD\n",
        "#         8796,   --UrineSupraPubis\n",
        "#         8798,   --UrineSpontaan\n",
        "#         8800,   --UrineIncontinentie\n",
        "#         8803,   --UrineUP\n",
        "#         8843,   --ABP gemiddeld II\n",
        "#         9924,   --Natrium (bloed)\n",
        "#         9927,   --Kalium (bloed) mmol/l\n",
        "#         9941,   --Kreatinine (bloed) µmol/l\n",
        "#         9555,   --Natrium Astrup\n",
        "#         9556,   --Kalium Astrup mmol/l\n",
        "#         10284,  --Na (onv.ISE) (bloed)\n",
        "#         10285,  --K (onv.ISE) (bloed) mmol/l\n",
        "#         10743,  --Nefrodrain li Uit\n",
        "#         10745,  --Nefrodrain re Uit\n",
        "#         14216,  --KREAT enzym. (bloed) µmol/l\n",
        "#         19921,  --UrineSplint Li\n",
        "#         19922   --UrineSplint Re\n",
        "\n",
        "#actionspace overview\n",
        "# 6818, -- Adrenaline (Epinefrine)\n",
        "#         7178, -- Dobutamine (Dobutrex)\n",
        "#         7179, -- Dopamine (Inotropin)\n",
        "#         7229, -- Noradrenaline (Norepinefrine)\n",
        "#         7291  -- Crystalloid (fluid)\n",
        "\n",
        "\n",
        "#cols1 = ['Kalium (bloed)', 'ABP gemiddeld', 'Kreatinine (bloed)', 'Natrium (bloed)', 'UrineCAD', 'UrineSupraPubis', '']\n",
        "cols1 = list(statespace['item'].unique())\n",
        "\n",
        "#cols2 =  ['UrineSpontaan', 'UrineUP', 'Kreatinine', 'Nefrodrain re Uit', 'Nefrodrain li Uit', 'UrineIncontinentie']\n",
        "colors = [\"pink\", \"orange\", \"yellow\", \"green\", \"blue\", \"purple\", \"black\", \"darkgreen\", \"darkblue\", \"grey\", \"lightblue\", \"red\"]\n",
        "\n",
        "def plot_dist(colnames):\n",
        "  fig=plt.figure()\n",
        "  for i, var_name in enumerate(colnames):\n",
        "      ax=fig.add_subplot(3,3,i+1)\n",
        "      statespace['value'][statespace['item'] == var_name].hist(bins=100,ax=ax, color=colors[i])\n",
        "      ax.set_title(var_name)\n",
        "  fig.tight_layout()  # Improves appearance a bit.\n",
        "  plt.show()\n",
        "\n",
        "plot_dist(cols1[0:9])"
      ],
      "metadata": {
        "id": "fI0Fcj41FopT",
        "colab": {
          "base_uri": "https://localhost:8080/",
          "height": 297
        },
        "outputId": "9874468e-056c-4f59-f0f5-a13423ca2b59"
      },
      "execution_count": 24,
      "outputs": [
        {
          "output_type": "display_data",
          "data": {
            "text/plain": [
              "<Figure size 432x288 with 9 Axes>"
            ],
            "image/png": "[encoded data removed]"
          },
          "metadata": {
            "needs_background": "light"
          }
        }
      ]
    },
    {
      "cell_type": "code",
      "source": [
        "plot_dist(cols1[9:18])"
      ],
      "metadata": {
        "id": "o7OV9OXlGQmU",
        "colab": {
          "base_uri": "https://localhost:8080/",
          "height": 297
        },
        "outputId": "29ce8d5e-01f5-4ec5-8897-dc811f37f0ca"
      },
      "execution_count": 26,
      "outputs": [
        {
          "output_type": "display_data",
          "data": {
            "text/plain": [
              "<Figure size 432x288 with 9 Axes>"
            ],
            "image/png": "[encoded data removed]"
          },
          "metadata": {
            "needs_background": "light"
          }
        }
      ]
    },
    {
      "cell_type": "code",
      "source": [
        "plot_dist(cols1[18::])"
      ],
      "metadata": {
        "colab": {
          "base_uri": "https://localhost:8080/",
          "height": 216
        },
        "id": "sIYPgKtJHMDf",
        "outputId": "a386086c-2024-4e5b-f5c6-6cd13e3df370"
      },
      "execution_count": 27,
      "outputs": [
        {
          "output_type": "display_data",
          "data": {
            "text/plain": [
              "<Figure size 432x288 with 5 Axes>"
            ],
            "image/png": "[encoded data removed]"
          },
          "metadata": {
            "needs_background": "light"
          }
        }
      ]
    },
    {
      "cell_type": "code",
      "source": [
        "statespace['item'].value_counts()"
      ],
      "metadata": {
        "id": "aBK09Lnpk0mO",
        "colab": {
          "base_uri": "https://localhost:8080/"
        },
        "outputId": "045113af-a46e-48cf-abfc-f8cf33d2e76c"
      },
      "execution_count": 28,
      "outputs": [
        {
          "output_type": "execute_result",
          "data": {
            "text/plain": [
              "ABP gemiddeld                         610367\n",
              "UrineCAD                              454991\n",
              "K (onv.ISE) (bloed)                   136781\n",
              "Na (onv.ISE) (bloed)                  131793\n",
              "Natrium (bloed)                        56709\n",
              "Kalium (bloed)                         54928\n",
              "Kreatinine (bloed)                     48460\n",
              "Niet invasieve bloeddruk gemiddeld     24016\n",
              "Kalium Astrup                           7864\n",
              "Natrium Astrup                          7747\n",
              "UrineSupraPubis                         5292\n",
              "Kalium                                  3040\n",
              "Natrium                                 3028\n",
              "UrineUP                                 2897\n",
              "Kreatinine                              2568\n",
              "Nefrodrain re Uit                       2333\n",
              "Nefrodrain li Uit                       2311\n",
              "UrineSpontaan                           2182\n",
              "UrineIncontinentie                       905\n",
              "UrineSplint Re                           537\n",
              "UrineSplint Li                           423\n",
              "ABP gemiddeld II                         129\n",
              "KREAT enzym. (bloed)                      11\n",
              "Name: item, dtype: int64"
            ]
          },
          "metadata": {},
          "execution_count": 28
        }
      ]
    },
    {
      "cell_type": "code",
      "source": [
        "test = to_cols(statespace)"
      ],
      "metadata": {
        "id": "Rkc5XrxaIMsW"
      },
      "execution_count": 30,
      "outputs": []
    },
    {
      "cell_type": "code",
      "source": [
        "pd.set_option('display.max_rows', None)\n",
        "test = test[(test['ABP gemiddeld'].isnull() == False) & (test['ABP gemiddeld II'].isnull() == False)]"
      ],
      "metadata": {
        "id": "WPqPAgUIIjBZ"
      },
      "execution_count": 42,
      "outputs": []
    },
    {
      "cell_type": "code",
      "source": [
        "test_flat = test.reset_index()\n",
        "plt.hist(test_flat['ABP gemiddeld'] - test_flat['ABP gemiddeld II'], color='orange', bins=120);\n",
        "plt.title('Difference between ABP gemiddeld and ABP gemiddeld II');"
      ],
      "metadata": {
        "colab": {
          "base_uri": "https://localhost:8080/",
          "height": 281
        },
        "id": "hZjZC4xsJvSt",
        "outputId": "52030d59-00cb-4241-c5b1-e5321419d3fe"
      },
      "execution_count": 54,
      "outputs": [
        {
          "output_type": "display_data",
          "data": {
            "text/plain": [
              "<Figure size 432x288 with 1 Axes>"
            ],
            "image/png": "[encoded data removed]"
          },
          "metadata": {
            "needs_background": "light"
          }
        }
      ]
    },
    {
      "cell_type": "code",
      "source": [
        ""
      ],
      "metadata": {
        "id": "loE-N_v7KP53"
      },
      "execution_count": null,
      "outputs": []
    },
    {
      "cell_type": "code",
      "source": [
        "#patient id=0 before preprocessing\n",
        "pd.set_option('display.max_rows', 100)\n",
        "data['time'] = pd.to_datetime(data['measuredat'], unit='ms')\n",
        "data[data['admissionid'] == 0].sort_values(by = \"measuredat\")"
      ],
      "metadata": {
        "id": "nUx5hZymosGm"
      },
      "execution_count": null,
      "outputs": []
    },
    {
      "cell_type": "code",
      "source": [
        "statespace = process_statespace(data)"
      ],
      "metadata": {
        "id": "lSsW-qCOiKXz"
      },
      "execution_count": null,
      "outputs": []
    },
    {
      "cell_type": "code",
      "source": [
        "#check for one patient whether the aggregations are correct\n",
        "statespace[statespace['admissionid'] == 0]"
      ],
      "metadata": {
        "id": "1rcfi7P6pheH"
      },
      "execution_count": null,
      "outputs": []
    },
    {
      "cell_type": "code",
      "source": [
        "from numpy.lib import histograms\n",
        "variables = ['Kalium (bloed)', 'ABP gemiddeld', 'Kreatinine (bloed)', 'Natrium (bloed)', 'UrineCAD', 'UrineSupraPubis']\n",
        "\n",
        "draw_histograms(statespace, variables, 3, 3)"
      ],
      "metadata": {
        "id": "SHkmTz8_zQqi"
      },
      "execution_count": null,
      "outputs": []
    },
    {
      "cell_type": "code",
      "source": [
        "variables2 = ['UrineSpontaan', 'UrineUP', 'Kreatinine', 'Nefrodrain re Uit', 'Nefrodrain li Uit', 'UrineIncontinentie']\n",
        "draw_histograms(statespace, variables2, 3, 3)"
      ],
      "metadata": {
        "id": "P0nEwXnP6y8x"
      },
      "execution_count": null,
      "outputs": []
    },
    {
      "cell_type": "code",
      "source": [
        "statespace"
      ],
      "metadata": {
        "id": "qXtNtYo6vcPl"
      },
      "execution_count": null,
      "outputs": []
    },
    {
      "cell_type": "markdown",
      "metadata": {
        "id": "5XEClhZriUS5"
      },
      "source": [
        "**Action** **Space**"
      ]
    },
    {
      "cell_type": "code",
      "metadata": {
        "id": "Sc8WgbHpiToR"
      },
      "source": [
        "action = pd.read_csv('action_space.csv')\n",
        "action['time'] = pd.to_datetime(action['stop'] - action['start'], unit='ms')\n",
        "action = action.drop(columns = ['start', 'stop'])"
      ],
      "execution_count": null,
      "outputs": []
    },
    {
      "cell_type": "code",
      "source": [
        "action['administered'][action['item'] == 'Noradrenaline (Norepinefrine)'].mean()"
      ],
      "metadata": {
        "id": "GiesMTI-Hf4W"
      },
      "execution_count": null,
      "outputs": []
    },
    {
      "cell_type": "code",
      "source": [
        "action['administered'][action['item'] == 'NaCl 0,45%/Glucose 2,5%'].max()"
      ],
      "metadata": {
        "id": "UyjIyau8H_vf"
      },
      "execution_count": null,
      "outputs": []
    },
    {
      "cell_type": "code",
      "source": [
        "#check for 1 patient\n",
        "pd.set_option('display.max_rows', 135)\n",
        "action[action['admissionid'] == 4251]"
      ],
      "metadata": {
        "id": "-zjNkLIU3G9D"
      },
      "execution_count": null,
      "outputs": []
    },
    {
      "cell_type": "code",
      "source": [
        "actionspace = process_actionspace(action)"
      ],
      "metadata": {
        "id": "BdyBGag9mjcv"
      },
      "execution_count": null,
      "outputs": []
    },
    {
      "cell_type": "code",
      "source": [
        "actionspace['Noradrenaline (Norepinefrine)'].max()"
      ],
      "metadata": {
        "id": "AbrcT8-DJPoh"
      },
      "execution_count": null,
      "outputs": []
    },
    {
      "cell_type": "code",
      "source": [
        "actionspace[actionspace['admissionid'] == 4251]"
      ],
      "metadata": {
        "id": "UrQNYz_h3bZm"
      },
      "execution_count": null,
      "outputs": []
    },
    {
      "cell_type": "markdown",
      "metadata": {
        "id": "jOlJ3RKDw6NC"
      },
      "source": [
        "**Combine two dataframes** "
      ]
    },
    {
      "cell_type": "code",
      "metadata": {
        "id": "GJkZnnWKBgy-"
      },
      "source": [
        "#take first 48 hours per patient\n",
        "statespace = statespace.sort_values(by=['admissionid', 'time'])\n",
        "statespace48h = statespace.groupby('admissionid').head(12)"
      ],
      "execution_count": null,
      "outputs": []
    },
    {
      "cell_type": "code",
      "source": [
        "action.isnull().sum()"
      ],
      "metadata": {
        "id": "tHEld4PuDjo8"
      },
      "execution_count": null,
      "outputs": []
    },
    {
      "cell_type": "code",
      "metadata": {
        "id": "zvYD2Xqj5His"
      },
      "source": [
        "#we need to know the gender, otherwise we cannot compute AKI --> nans are dropped\n",
        "genders = action[['admissionid', 'gender']].dropna()"
      ],
      "execution_count": null,
      "outputs": []
    },
    {
      "cell_type": "code",
      "metadata": {
        "id": "JYi9SF3AB-sc"
      },
      "source": [
        "#add gender to dataframe\n",
        "def check_gender(admissionid):\n",
        "  try:\n",
        "    gender = genders['gender'][genders['admissionid'] == admissionid].head(1).item()\n",
        "  except ValueError:\n",
        "    gender = \"Unknown\"\n",
        "  return gender"
      ],
      "execution_count": null,
      "outputs": []
    },
    {
      "cell_type": "code",
      "source": [
        "#add gender to dataframe\n",
        "def check_age(admissionid):\n",
        "  age = action['agegroup'][action['admissionid'] == admissionid].head(1).item()\n",
        "  return age"
      ],
      "metadata": {
        "id": "Mj39PjglEQvh"
      },
      "execution_count": null,
      "outputs": []
    },
    {
      "cell_type": "code",
      "metadata": {
        "id": "R2tN3h7hrznU"
      },
      "source": [
        "statespace48h['gender'] = [check_gender(x) for x in statespace48h['admissionid']]"
      ],
      "execution_count": null,
      "outputs": []
    },
    {
      "cell_type": "code",
      "source": [
        "#remove unknowns, as we need to know the gender to compute the AKI\n",
        "statespace48h = statespace48h[statespace48h.gender != 'Unknown']"
      ],
      "metadata": {
        "id": "2r_qYkyqrsin"
      },
      "execution_count": null,
      "outputs": []
    },
    {
      "cell_type": "code",
      "source": [
        "statespace48h['agegroup'] = [check_age(x) for x in statespace48h['admissionid']]"
      ],
      "metadata": {
        "id": "tPXuj50mEmm0"
      },
      "execution_count": null,
      "outputs": []
    },
    {
      "cell_type": "code",
      "source": [
        "statespace48h['agegroup'].value_counts()"
      ],
      "metadata": {
        "id": "JFLXR2vtK_0L"
      },
      "execution_count": null,
      "outputs": []
    },
    {
      "cell_type": "code",
      "source": [
        "#Agegroup is categorical --> encode them into a numerical variable\n",
        "# agegroups = pd.get_dummies(statespace48h['agegroup'])\n",
        "# statespace48h = pd.concat([statespace48h, agegroups], axis=1)\n",
        "\n",
        "ages = {\"agegroup\": {\"18-39\": 1, \"40-49\": 2, \"50-59\": 3, \"60-69\":4, \"70-79\":5, \"80+\":6}}\n",
        "statespace48h = statespace48h.replace(ages)\n",
        "statespace48h"
      ],
      "metadata": {
        "id": "OjJfnrFHGVvf"
      },
      "execution_count": null,
      "outputs": []
    },
    {
      "cell_type": "code",
      "metadata": {
        "id": "pVTRWkqOIb5g"
      },
      "source": [
        "#df with 1 row per patient for demographic stats\n",
        "demo = statespace48h.drop_duplicates(subset=['admissionid'], keep='first')"
      ],
      "execution_count": null,
      "outputs": []
    },
    {
      "cell_type": "code",
      "source": [
        "#add AKI feature\n",
        "\n",
        "def AKI(kreatinine, gender):\n",
        "  if gender == 'Vrouw':\n",
        "    if kreatinine > 106 and kreatinine <= 134:\n",
        "      return 1\n",
        "    if kreatinine > 134 and kreatinine <= 205:\n",
        "      return 2\n",
        "    if kreatinine > 205:\n",
        "      return 3\n",
        "    else:\n",
        "      return 0\n",
        "  if gender == 'Man':\n",
        "    if kreatinine > 119 and kreatinine <= 151:\n",
        "      return 1\n",
        "    if kreatinine > 151 and kreatinine <= 231:\n",
        "      return 2\n",
        "    if kreatinine > 231:\n",
        "      return 3\n",
        "    else:\n",
        "      return 0"
      ],
      "metadata": {
        "id": "SKQ3Rkb1th_q"
      },
      "execution_count": null,
      "outputs": []
    },
    {
      "cell_type": "code",
      "source": [
        "#add AKI to every row in statespace\n",
        "statespace48h['AKI'] = statespace48h.apply(lambda row: AKI(row['Kreatinine (bloed)'], row['gender']), axis=1)"
      ],
      "metadata": {
        "id": "k3tDjoi8toAP"
      },
      "execution_count": null,
      "outputs": []
    },
    {
      "cell_type": "code",
      "source": [
        "statespace48h['AKI'].value_counts()"
      ],
      "metadata": {
        "id": "sScanRFNuFvx"
      },
      "execution_count": null,
      "outputs": []
    },
    {
      "cell_type": "code",
      "source": [
        "#merge datasets --> left merge on actionspace, as states without actions are not useful for our model\n",
        "space = actionspace.merge(statespace48h, on=[\"admissionid\", \"time\"], how=\"left\")"
      ],
      "metadata": {
        "id": "xpThDJCDuOPT"
      },
      "execution_count": null,
      "outputs": []
    },
    {
      "cell_type": "code",
      "source": [
        "#all the null values are patients that are not in the state space and only in the action space --> we cannot use them so they are dropped\n",
        "space.isnull().sum()\n",
        "space = space.dropna()"
      ],
      "metadata": {
        "id": "yafVTlFdungH"
      },
      "execution_count": null,
      "outputs": []
    },
    {
      "cell_type": "code",
      "source": [
        "#one hot encode gender\n",
        "space = pd.get_dummies(space, columns = ['gender'])\n"
      ],
      "metadata": {
        "id": "OuANHRacJ5Tl"
      },
      "execution_count": null,
      "outputs": []
    },
    {
      "cell_type": "code",
      "source": [
        "#save final space in the drive\n",
        "#space.to_csv(\"space_correct_demo7.csv\")"
      ],
      "metadata": {
        "id": "_eAjxLUkvTke"
      },
      "execution_count": null,
      "outputs": []
    },
    {
      "cell_type": "code",
      "source": [
        "space[space['admissionid'] == 4251]"
      ],
      "metadata": {
        "id": "Ls1soMJSwFJQ"
      },
      "execution_count": null,
      "outputs": []
    }
  ]
}