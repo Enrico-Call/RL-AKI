{
  "nbformat": 4,
  "nbformat_minor": 0,
  "metadata": {
    "colab": {
      "name": "Data_Extraction.ipynb",
      "provenance": [],
      "collapsed_sections": [],
      "authorship_tag": "ABX9TyP+CA0iXVdn2bKwvcYSNOtb",
      "include_colab_link": true
    },
    "kernelspec": {
      "name": "python3",
      "display_name": "Python 3"
    },
    "language_info": {
      "name": "python"
    }
  },
  "cells": [
    {
      "cell_type": "markdown",
      "metadata": {
        "id": "view-in-github",
        "colab_type": "text"
      },
      "source": [
        "<a href=\"https://colab.research.google.com/github/Enrico-Call/RL-AKI/blob/create-notebook/Data_Extraction.ipynb\" target=\"_parent\"><img src=\"https://colab.research.google.com/assets/colab-badge.svg\" alt=\"Open In Colab\"/></a>"
      ]
    },
    {
      "cell_type": "markdown",
      "source": [
        "<img src=\"https://github.com/AmsterdamUMC/AmsterdamUMCdb/blob/master/img/logo_amds.png?raw=1\" alt=\"Logo\" width=128px/>\n",
        "\n",
        "# VUmc Research Project - Reinforcement Learning for Sepsis Prevention\n",
        "# Data Extraction\n",
        "\n",
        "AmsterdamUMCdb version 1.0.2 March 2020  \n",
        "Copyright &copy; 2003-2022 Amsterdam UMC - Amsterdam Medical Data Science"
      ],
      "metadata": {
        "id": "irsmHiHOWgGt"
      }
    },
    {
      "cell_type": "markdown",
      "source": [
        "## 1. Set up the environment variables for Colab and GoogleBigQuery to access"
      ],
      "metadata": {
        "id": "6z41GAwxWhUF"
      }
    },
    {
      "cell_type": "code",
      "source": [
        "import os\n",
        "from google.colab import auth\n",
        "from google.cloud.bigquery import magics\n",
        "from google.cloud import bigquery\n",
        "\n",
        "#sets dateset\n",
        "DATASET_PROJECT_ID = 'amsterdamumcdb-data'\n",
        "DATASET_ID = 'ams102'\n",
        "LOCATION = 'eu'\n",
        "\n",
        "#sets the project id\n",
        "PROJECT_ID = \"rl-aki\"\n",
        "\n",
        "#all libraries check this environment variable, so set it:\n",
        "os.environ[\"GOOGLE_CLOUD_PROJECT\"] = PROJECT_ID\n",
        "\n",
        "#sets the default query job configuration\n",
        "def_config = bigquery.job.QueryJobConfig(default_dataset=DATASET_PROJECT_ID + \".\" + DATASET_ID)\n",
        "magics.context.default_query_job_config = def_config\n",
        "\n",
        "#sets client options job configuration\n",
        "client_options = {}\n",
        "client_options['location'] = LOCATION\n",
        "magics.context.bigquery_client_options = client_options\n",
        "\n",
        "#BigQuery requires a separate config to prevent the 'BadRequest: 400 Cannot explicitly modify anonymous table' error message\n",
        "job_config = bigquery.job.QueryJobConfig()\n",
        "\n",
        "#sets default client settings by re-using the previously defined config\n",
        "client = bigquery.Client(project=PROJECT_ID, location=LOCATION, default_query_job_config=def_config)\n",
        "\n",
        "auth.authenticate_user()\n",
        "print('Authenticated')"
      ],
      "metadata": {
        "colab": {
          "base_uri": "https://localhost:8080/"
        },
        "id": "WONtkbuyWndA",
        "outputId": "37dbdfde-fac9-4cd9-d336-080768a28e83"
      },
      "execution_count": 2,
      "outputs": [
        {
          "output_type": "stream",
          "name": "stdout",
          "text": [
            "Authenticated\n"
          ]
        }
      ]
    },
    {
      "cell_type": "markdown",
      "source": [
        "### 1.1. Available documentation for AmsterdamUMCdb tables.\n",
        "Additional information including sample Python code in Jupyter Notebooks and [SQL](https://github.com/AmsterdamUMC/AmsterdamUMCdb/tree/master/amsterdamumcdb/sql) is available from the official [AmsterdamUMCdb GitHub repository](https://github.com/AmsterdamUMC/AmsterdamUMCdb) and [wiki](https://github.com/AmsterdamUMC/AmsterdamUMCdb/wiki). \n",
        "\n",
        "Table | Wiki | Example code\n",
        ":- | :--| -:\n",
        "admissions|https://github.com/AmsterdamUMC/AmsterdamUMCdb/wiki/admissions | [![Open In Colab](https://colab.research.google.com/assets/colab-badge.svg)](https://colab.research.google.com/github/AmsterdamUMC/AmsterdamUMCdb/blob/master/tables/admissions.ipynb) \n",
        "drugitems|https://github.com/AmsterdamUMC/AmsterdamUMCdb/wiki/drugitems|[![Open In Colab](https://colab.research.google.com/assets/colab-badge.svg)](https://colab.research.google.com/github/AmsterdamUMC/AmsterdamUMCdb/blob/master/tables/drugitems.ipynb) \n",
        "freetextitems|https://github.com/AmsterdamUMC/AmsterdamUMCdb/wiki/freetextitems|[![Open In Colab](https://colab.research.google.com/assets/colab-badge.svg)](https://colab.research.google.com/github/AmsterdamUMC/AmsterdamUMCdb/blob/master/tables/freetextitems.ipynb)\n",
        "listitems|https://github.com/AmsterdamUMC/AmsterdamUMCdb/wiki/lisitems|[![Open In Colab](https://colab.research.google.com/assets/colab-badge.svg)](https://colab.research.google.com/github/AmsterdamUMC/AmsterdamUMCdb/blob/master/tables/listitems.ipynb)\n",
        "numericitems|https://github.com/AmsterdamUMC/AmsterdamUMCdb/wiki/numericitems|[![Open In Colab](https://colab.research.google.com/assets/colab-badge.svg)](https://colab.research.google.com/github/AmsterdamUMC/AmsterdamUMCdb/blob/master/tables/numericitems.ipynb)\n",
        "procedureorderitems|https://github.com/AmsterdamUMC/AmsterdamUMCdb/wiki/procedureorderitems|[![Open In Colab](https://colab.research.google.com/assets/colab-badge.svg)](https://colab.research.google.com/github/AmsterdamUMC/AmsterdamUMCdb/blob/master/tables/procedureorderitems.ipynb)\n",
        "processitems|https://github.com/AmsterdamUMC/AmsterdamUMCdb/wiki/processitems|[![Open In Colab](https://colab.research.google.com/assets/colab-badge.svg)](https://colab.research.google.com/github/AmsterdamUMC/AmsterdamUMCdb/blob/master/tables/processitems.ipynb)\n",
        "\n",
        "**Note**: In contrast to the publicly available version of AmsterdamUMCdb, we have moved *unvalidated* (device) data (`registeredby IS NULL`) from the `numericitems` table to a separate table `unvalidatednumericitems` to reduce query costs when unvalidated device data is not needed. However, depending on the chosen solution, you may need to combine the data from both tables."
      ],
      "metadata": {
        "id": "96501l-OXJq1"
      }
    },
    {
      "cell_type": "code",
      "source": [
        "#get the amsterdamumcdb package from PiPy repository for use in Colab\n",
        "!pip install amsterdamumcdb\n",
        "import amsterdamumcdb as adb"
      ],
      "metadata": {
        "colab": {
          "base_uri": "https://localhost:8080/"
        },
        "id": "XvCKd_V_X68w",
        "outputId": "89effa9c-c493-4131-bbb2-afaeb3cd647a"
      },
      "execution_count": 3,
      "outputs": [
        {
          "output_type": "stream",
          "name": "stdout",
          "text": [
            "Collecting amsterdamumcdb\n",
            "  Downloading amsterdamumcdb-0.1.3-py3-none-any.whl (199 kB)\n",
            "\u001b[?25l\r\u001b[K     |█▋                              | 10 kB 21.9 MB/s eta 0:00:01\r\u001b[K     |███▎                            | 20 kB 13.4 MB/s eta 0:00:01\r\u001b[K     |█████                           | 30 kB 10.9 MB/s eta 0:00:01\r\u001b[K     |██████▋                         | 40 kB 9.6 MB/s eta 0:00:01\r\u001b[K     |████████▏                       | 51 kB 4.5 MB/s eta 0:00:01\r\u001b[K     |█████████▉                      | 61 kB 5.3 MB/s eta 0:00:01\r\u001b[K     |███████████▌                    | 71 kB 5.7 MB/s eta 0:00:01\r\u001b[K     |█████████████▏                  | 81 kB 5.9 MB/s eta 0:00:01\r\u001b[K     |██████████████▊                 | 92 kB 6.6 MB/s eta 0:00:01\r\u001b[K     |████████████████▍               | 102 kB 5.2 MB/s eta 0:00:01\r\u001b[K     |██████████████████              | 112 kB 5.2 MB/s eta 0:00:01\r\u001b[K     |███████████████████▊            | 122 kB 5.2 MB/s eta 0:00:01\r\u001b[K     |█████████████████████▍          | 133 kB 5.2 MB/s eta 0:00:01\r\u001b[K     |███████████████████████         | 143 kB 5.2 MB/s eta 0:00:01\r\u001b[K     |████████████████████████▋       | 153 kB 5.2 MB/s eta 0:00:01\r\u001b[K     |██████████████████████████▎     | 163 kB 5.2 MB/s eta 0:00:01\r\u001b[K     |████████████████████████████    | 174 kB 5.2 MB/s eta 0:00:01\r\u001b[K     |█████████████████████████████▌  | 184 kB 5.2 MB/s eta 0:00:01\r\u001b[K     |███████████████████████████████▏| 194 kB 5.2 MB/s eta 0:00:01\r\u001b[K     |████████████████████████████████| 199 kB 5.2 MB/s \n",
            "\u001b[?25hRequirement already satisfied: matplotlib in /usr/local/lib/python3.7/dist-packages (from amsterdamumcdb) (3.2.2)\n",
            "Requirement already satisfied: numpy in /usr/local/lib/python3.7/dist-packages (from amsterdamumcdb) (1.21.5)\n",
            "Requirement already satisfied: python-dateutil>=2.1 in /usr/local/lib/python3.7/dist-packages (from matplotlib->amsterdamumcdb) (2.8.2)\n",
            "Requirement already satisfied: cycler>=0.10 in /usr/local/lib/python3.7/dist-packages (from matplotlib->amsterdamumcdb) (0.11.0)\n",
            "Requirement already satisfied: pyparsing!=2.0.4,!=2.1.2,!=2.1.6,>=2.0.1 in /usr/local/lib/python3.7/dist-packages (from matplotlib->amsterdamumcdb) (3.0.7)\n",
            "Requirement already satisfied: kiwisolver>=1.0.1 in /usr/local/lib/python3.7/dist-packages (from matplotlib->amsterdamumcdb) (1.4.0)\n",
            "Requirement already satisfied: typing-extensions in /usr/local/lib/python3.7/dist-packages (from kiwisolver>=1.0.1->matplotlib->amsterdamumcdb) (3.10.0.2)\n",
            "Requirement already satisfied: six>=1.5 in /usr/local/lib/python3.7/dist-packages (from python-dateutil>=2.1->matplotlib->amsterdamumcdb) (1.15.0)\n",
            "Installing collected packages: amsterdamumcdb\n",
            "Successfully installed amsterdamumcdb-0.1.3\n"
          ]
        }
      ]
    }
  ]
}