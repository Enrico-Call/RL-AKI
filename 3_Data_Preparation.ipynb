{
  "nbformat": 4,
  "nbformat_minor": 0,
  "metadata": {
    "colab": {
      "name": "Data_Preparation",
      "provenance": [],
      "authorship_tag": "ABX9TyMgwy4zdsKyhiudyMTKRqbE",
      "include_colab_link": true
    },
    "kernelspec": {
      "name": "python3",
      "display_name": "Python 3"
    },
    "language_info": {
      "name": "python"
    }
  },
  "cells": [
    {
      "cell_type": "markdown",
      "metadata": {
        "id": "view-in-github",
        "colab_type": "text"
      },
      "source": [
        "<a href=\"https://colab.research.google.com/github/Enrico-Call/RL-AKI/blob/data-prep-enrico/Data_Preparation.ipynb\" target=\"_parent\"><img src=\"https://colab.research.google.com/assets/colab-badge.svg\" alt=\"Open In Colab\"/></a>"
      ]
    },
    {
      "cell_type": "markdown",
      "source": [
        "<img src=\"https://github.com/AmsterdamUMC/AmsterdamUMCdb/blob/master/img/logo_amds.png?raw=1\" alt=\"Logo\" width=128px/>\n",
        "\n",
        "# VUmc Research Project - Reinforcement Learning for Sepsis Prevention\n",
        "# Data Preparation\n",
        "\n",
        "AmsterdamUMCdb version 1.0.2 March 2020  \n",
        "Copyright &copy; 2003-2022 Amsterdam UMC - Amsterdam Medical Data Science"
      ],
      "metadata": {
        "id": "TnLq6gcTMepC"
      }
    },
    {
      "cell_type": "markdown",
      "source": [
        "## 1. Clustering"
      ],
      "metadata": {
        "id": "M73KRmDtMmsJ"
      }
    },
    {
      "cell_type": "code",
      "execution_count": null,
      "metadata": {
        "id": "yT_edsgdKf1Y"
      },
      "outputs": [],
      "source": [
        "Sum_of_squared_distances = []\n",
        "K = range(2,500, 5)\n",
        "for k in K:\n",
        "    km = KMeans(n_clusters=k)\n",
        "    km = km.fit(space[['Kalium (bloed)', 'ABP gemiddeld', 'Kreatinine (bloed)', 'Natrium (bloed)', 'UrineCAD', 'UrineSupraPubis', 'UrineSpontaan',\n",
        " 'UrineUP',\n",
        " 'Kreatinine',\n",
        " 'Nefrodrain re Uit',\n",
        " 'Nefrodrain li Uit',\n",
        " 'UrineIncontinentie',\n",
        " 'gender_Vrouw',\n",
        " 'agegroup',\n",
        " 'AKI']])\n",
        "    Sum_of_squared_distances.append(km.inertia_)\n",
        "\n",
        "plt.plot(K, Sum_of_squared_distances, 'b-')\n",
        "plt.xlabel('k')\n",
        "plt.ylabel('Sum_of_squared_distances')\n",
        "plt.title('Elbow Method For Optimal k')\n",
        "plt.show()"
      ]
    },
    {
      "cell_type": "code",
      "source": [
        "from sklearn.cluster import KMeans\n",
        "from sklearn.metrics import silhouette_samples, silhouette_score\n",
        "\n",
        "def k_means_over_instances(dataset, cols, k, max_iters, n_inits):\n",
        "\n",
        "        # Take the appropriate columns.\n",
        "        temp_dataset = dataset[cols]\n",
        "        # Now apply the k-means algorithm\n",
        "        kmeans = KMeans(n_clusters=k, max_iter=max_iters, n_init=n_inits, random_state=0).fit(temp_dataset)\n",
        "        # Add the labels to the dataset\n",
        "        dataset['cluster'] = kmeans.labels_\n",
        "        # Compute the solhouette and add it as well.\n",
        "        silhouette_avg = silhouette_score(temp_dataset, kmeans.labels_)\n",
        "        silhouette_per_inst = silhouette_samples(temp_dataset, kmeans.labels_)\n",
        "        dataset['silhouette'] = silhouette_per_inst\n",
        "\n",
        "        return dataset, silhouette_avg"
      ],
      "metadata": {
        "id": "VHLN-g97Mqov"
      },
      "execution_count": null,
      "outputs": []
    },
    {
      "cell_type": "code",
      "source": [
        "# Use k=50 based on previous runs\n",
        "\n",
        "new_d, sil = k_means_over_instances(space, ['Kalium (bloed)', 'ABP gemiddeld', 'Kreatinine (bloed)', 'Natrium (bloed)', 'UrineCAD', 'UrineSupraPubis', 'UrineSpontaan',\n",
        " 'UrineUP',\n",
        " 'Kreatinine',\n",
        " 'Nefrodrain re Uit',\n",
        " 'Nefrodrain li Uit',\n",
        " 'UrineIncontinentie',\n",
        " 'gender_Vrouw',\n",
        " 'agegroup',\n",
        " 'AKI'], 50, 20, 10)"
      ],
      "metadata": {
        "id": "gptab8YHMyUa"
      },
      "execution_count": null,
      "outputs": []
    },
    {
      "cell_type": "markdown",
      "source": [
        "## 2. Bin Values"
      ],
      "metadata": {
        "id": "ovI_4J_nM7Mw"
      }
    },
    {
      "cell_type": "code",
      "source": [
        "# Binning Values\n",
        "\n",
        "binsv = [-np.inf, 0, new_d['Noradrenaline (Norepinefrine)'].median(), np.inf]\n",
        "binsf = [-np.inf, 250, new_d['NaCl 0,45%/Glucose 2,5%'].median(), np.inf]\n",
        "labels = [0, 1, 2]\n",
        "new_d['vasop'] = pd.cut(new_d['Noradrenaline (Norepinefrine)'], bins=binsv, labels=labels)\n",
        "new_d['fluid'] = pd.cut(new_d['NaCl 0,45%/Glucose 2,5%'], bins=binsf, labels=labels)"
      ],
      "metadata": {
        "id": "1xlS28TYM14P"
      },
      "execution_count": null,
      "outputs": []
    },
    {
      "cell_type": "code",
      "source": [
        "# 0 = no vasop, no fluid\n",
        "# 1 = no vasop, low fluid\n",
        "# 2 = no vasop, high fluid\n",
        "# 3 = low vasop, no fluid\n",
        "# 4 = low vasop, low fluid\n",
        "# 5 = low vasop, high fluid\n",
        "# 6 = high vasop, no fluid\n",
        "# 7 = high vasop, low fluid\n",
        "# 8 = high vasop, high fluid\n",
        "\n",
        "act = []\n",
        "\n",
        "for v, f in zip(new_d['vasop'], new_d['fluid']): \n",
        "  if v == 0 and f == 0: act.append('0')\n",
        "  elif v == 0 and f == 1: act.append('1')\n",
        "  elif v == 0 and f == 2: act.append('2')\n",
        "  elif v == 1 and f == 0: act.append('3')\n",
        "  elif v == 1 and f == 1: act.append('4')\n",
        "  elif v == 1 and f == 2: act.append('5')\n",
        "  elif v == 2 and f == 0: act.append('6')\n",
        "  elif v == 2 and f == 1: act.append('7')\n",
        "  elif v == 2 and f == 2: act.append('8')\n",
        "\n",
        "new_d['action'] = act\n",
        "\n",
        "new_d['reward'] = -new_d['AKI']\n",
        "\n",
        "new_d['next'] = new_d['cluster'].shift(-1)\n",
        "\n",
        "final = new_d.dropna()\n"
      ],
      "metadata": {
        "id": "H-6URquRM5r_"
      },
      "execution_count": null,
      "outputs": []
    }
  ]
}
