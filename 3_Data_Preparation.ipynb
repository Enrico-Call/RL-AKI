{
  "nbformat": 4,
  "nbformat_minor": 0,
  "metadata": {
    "colab": {
      "name": "Data_Preparation",
      "provenance": [],
      "authorship_tag": "ABX9TyPiKvcPssbOv6GFxicD+tON",
      "include_colab_link": true
    },
    "kernelspec": {
      "name": "python3",
      "display_name": "Python 3"
    },
    "language_info": {
      "name": "python"
    }
  },
  "cells": [
    {
      "cell_type": "markdown",
      "metadata": {
        "id": "view-in-github",
        "colab_type": "text"
      },
      "source": [
        "<a href=\"https://colab.research.google.com/github/Enrico-Call/RL-AKI/blob/main/3_Data_Preparation.ipynb\" target=\"_parent\"><img src=\"https://colab.research.google.com/assets/colab-badge.svg\" alt=\"Open In Colab\"/></a>"
      ]
    },
    {
      "cell_type": "markdown",
      "source": [
        "<img src=\"https://github.com/AmsterdamUMC/AmsterdamUMCdb/blob/master/img/logo_amds.png?raw=1\" alt=\"Logo\" width=128px/>\n",
        "\n",
        "# VUmc Research Project - Reinforcement Learning for Sepsis Prevention\n",
        "# Data Preparation\n",
        "\n",
        "AmsterdamUMCdb version 1.0.2 March 2020  \n",
        "Copyright &copy; 2003-2022 Amsterdam UMC - Amsterdam Medical Data Science"
      ],
      "metadata": {
        "id": "TnLq6gcTMepC"
      }
    },
    {
      "cell_type": "markdown",
      "source": [
        "### 1. Load Data and Set Up Environment"
      ],
      "metadata": {
        "id": "M73KRmDtMmsJ"
      }
    },
    {
      "cell_type": "code",
      "source": [
        "from google.colab import drive\n",
        "\n",
        "import os\n",
        "\n",
        "import pandas as pd\n",
        "import matplotlib.pyplot as plt\n",
        "import numpy as np\n",
        "\n",
        "drive.mount('/content/drive', force_remount=True)\n",
        "os.chdir('/content/drive/MyDrive/MLRFH')\n",
        "\n",
        "aggregated = pd.read_csv('aggregated.csv')"
      ],
      "metadata": {
        "id": "fIB6m_wvs-Oz",
        "outputId": "1fcd91dd-ad20-4528-c156-b5a1d131b516",
        "colab": {
          "base_uri": "https://localhost:8080/"
        }
      },
      "execution_count": 13,
      "outputs": [
        {
          "output_type": "stream",
          "name": "stdout",
          "text": [
            "Mounted at /content/drive\n"
          ]
        }
      ]
    },
    {
      "cell_type": "markdown",
      "source": [
        "## 2. Clustering"
      ],
      "metadata": {
        "id": "J6Bc1fhOs_J6"
      }
    },
    {
      "cell_type": "code",
      "source": [
        "from sklearn.cluster import KMeans\n",
        "from sklearn.metrics import silhouette_samples, silhouette_score\n",
        "\n",
        "def k_means_over_instances(dataset, cols, k, max_iters, n_inits):\n",
        "\n",
        "        # Take the appropriate columns.\n",
        "        temp_dataset = dataset[cols]\n",
        "        # Now apply the k-means algorithm\n",
        "        kmeans = KMeans(n_clusters=k, max_iter=max_iters, n_init=n_inits, random_state=0).fit(temp_dataset)\n",
        "        # Add the labels to the dataset\n",
        "        dataset['cluster'] = kmeans.labels_\n",
        "        # Compute the silhouette and add it as well.\n",
        "        silhouette_avg = silhouette_score(temp_dataset, kmeans.labels_)\n",
        "        silhouette_per_inst = silhouette_samples(temp_dataset, kmeans.labels_)\n",
        "        dataset['silhouette'] = silhouette_per_inst\n",
        "\n",
        "        return dataset, silhouette_avg"
      ],
      "metadata": {
        "id": "VHLN-g97Mqov"
      },
      "execution_count": 14,
      "outputs": []
    },
    {
      "cell_type": "code",
      "execution_count": 15,
      "metadata": {
        "id": "yT_edsgdKf1Y",
        "outputId": "1a4860eb-e579-49e4-cb6b-59e5d35d8af6",
        "colab": {
          "base_uri": "https://localhost:8080/",
          "height": 295
        }
      },
      "outputs": [
        {
          "output_type": "display_data",
          "data": {
            "text/plain": [
              "<Figure size 432x288 with 1 Axes>"
            ],
            "image/png": "[encoded data removed]"
          },
          "metadata": {
            "needs_background": "light"
          }
        }
      ],
      "source": [
        "Sum_of_squared_distances = []\n",
        "K = range(2,500, 5)\n",
        "for k in K:\n",
        "    km = KMeans(n_clusters=k)\n",
        "    km = km.fit(aggregated[['Kreatinine', 'Kreatinine (bloed)', 'KREAT enzym. (bloed)',\n",
        "       'Urine', 'Chloor (bloed)', 'Natrium (bloed)',\n",
        "       'Kalium (bloed)', 'HCO3', 'Natrium', 'Natrium Astrup',\n",
        "       'Kalium Astrup', 'Chloor Astrup', 'Chloor', 'Kalium',\n",
        "       'Act.HCO3 (bloed)', 'Na (onv.ISE) (bloed)', 'K (onv.ISE) (bloed)',\n",
        "       'Cl (onv.ISE) (bloed)', 'Niet invasieve bloeddruk gemiddeld',\n",
        "       'ABP gemiddeld II', 'ABP gemiddeld', 'agegroup', 'gender',\n",
        "       'weightgroup', 'heightgroup']])\n",
        "    Sum_of_squared_distances.append(km.inertia_)\n",
        "\n",
        "plt.plot(K, Sum_of_squared_distances, 'b-')\n",
        "plt.xlabel('k')\n",
        "plt.ylabel('Sum_of_squared_distances')\n",
        "plt.title('Elbow Method For Optimal k')\n",
        "plt.show()"
      ]
    },
    {
      "cell_type": "code",
      "source": [
        "# Use k=50 based on previous runs\n",
        "\n",
        "new_d, sil = k_means_over_instances(aggregated, ['Kreatinine', 'Kreatinine (bloed)', 'KREAT enzym. (bloed)',\n",
        "       'Urine', 'Chloor (bloed)', 'Natrium (bloed)',\n",
        "       'Kalium (bloed)', 'HCO3', 'Natrium', 'Natrium Astrup',\n",
        "       'Kalium Astrup', 'Chloor Astrup', 'Chloor', 'Kalium',\n",
        "       'Act.HCO3 (bloed)', 'Na (onv.ISE) (bloed)', 'K (onv.ISE) (bloed)',\n",
        "       'Cl (onv.ISE) (bloed)', 'Niet invasieve bloeddruk gemiddeld',\n",
        "       'ABP gemiddeld II', 'ABP gemiddeld', 'agegroup', 'gender',\n",
        "       'weightgroup', 'heightgroup'], 50, 20, 10)"
      ],
      "metadata": {
        "id": "gptab8YHMyUa"
      },
      "execution_count": 16,
      "outputs": []
    },
    {
      "cell_type": "markdown",
      "source": [
        "## 3. Bin Values"
      ],
      "metadata": {
        "id": "ovI_4J_nM7Mw"
      }
    },
    {
      "cell_type": "code",
      "source": [
        "# Binning Values\n",
        "\n",
        "binsv = [-np.inf, 0, 40, np.inf]\n",
        "binsf = [-np.inf, 0.5, 1, np.inf]\n",
        "labels = [0, 1, 2]\n",
        "aggregated['vasop'] = pd.cut(aggregated['vasops_sum'], bins=binsv, labels=labels)\n",
        "aggregated['fluid'] = pd.cut(aggregated['fluid_sum'], bins=binsf, labels=labels)"
      ],
      "metadata": {
        "id": "1xlS28TYM14P"
      },
      "execution_count": 17,
      "outputs": []
    },
    {
      "cell_type": "code",
      "source": [
        "# 0 = no vasop, no fluid\n",
        "# 1 = no vasop, low fluid\n",
        "# 2 = no vasop, high fluid\n",
        "# 3 = low vasop, no fluid\n",
        "# 4 = low vasop, low fluid\n",
        "# 5 = low vasop, high fluid\n",
        "# 6 = high vasop, no fluid\n",
        "# 7 = high vasop, low fluid\n",
        "# 8 = high vasop, high fluid\n",
        "\n",
        "act = []\n",
        "\n",
        "for v, f in zip(aggregated['vasop'], aggregated['fluid']): \n",
        "  if v == 0 and f == 0: act.append('0')\n",
        "  elif v == 0 and f == 1: act.append('1')\n",
        "  elif v == 0 and f == 2: act.append('2')\n",
        "  elif v == 1 and f == 0: act.append('3')\n",
        "  elif v == 1 and f == 1: act.append('4')\n",
        "  elif v == 1 and f == 2: act.append('5')\n",
        "  elif v == 2 and f == 0: act.append('6')\n",
        "  elif v == 2 and f == 1: act.append('7')\n",
        "  elif v == 2 and f == 2: act.append('8')\n",
        "\n",
        "aggregated['action'] = act\n",
        "\n",
        "aggregated['reward'] = -aggregated['aki_stage']\n",
        "\n",
        "aggregated['next'] = aggregated['cluster'].shift(-1)\n",
        "\n",
        "final = aggregated.dropna()\n"
      ],
      "metadata": {
        "id": "H-6URquRM5r_"
      },
      "execution_count": 19,
      "outputs": []
    }
  ]
}